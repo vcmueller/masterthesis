{
 "cells": [
  {
   "attachments": {},
   "cell_type": "markdown",
   "metadata": {},
   "source": [
    "# Word2Vec Word Embedding using skills from IT Job postings and Developers' Profiles\n",
    "\n",
    "The model is trained using the Word2Vec word embedding technique.\n",
    "\n",
    "The word embedding is built based on a data combination from job postings in the IT domain (Skill2vec dataset) and people's skills (Stack Overflow Developer Survey).\n",
    "\n",
    "The created model is saved to a file for later loading."
   ]
  },
  {
   "attachments": {},
   "cell_type": "markdown",
   "metadata": {},
   "source": [
    "## Import Libraries"
   ]
  },
  {
   "cell_type": "code",
   "execution_count": 14,
   "metadata": {},
   "outputs": [],
   "source": [
    "import pandas as pd\n",
    "from gensim.models import Word2Vec\n",
    "import numpy as np"
   ]
  },
  {
   "attachments": {},
   "cell_type": "markdown",
   "metadata": {},
   "source": [
    "# Load Roles Dataset"
   ]
  },
  {
   "cell_type": "code",
   "execution_count": 15,
   "metadata": {},
   "outputs": [
    {
     "data": {
      "text/html": [
       "<div>\n",
       "<style scoped>\n",
       "    .dataframe tbody tr th:only-of-type {\n",
       "        vertical-align: middle;\n",
       "    }\n",
       "\n",
       "    .dataframe tbody tr th {\n",
       "        vertical-align: top;\n",
       "    }\n",
       "\n",
       "    .dataframe thead th {\n",
       "        text-align: right;\n",
       "    }\n",
       "</style>\n",
       "<table border=\"1\" class=\"dataframe\">\n",
       "  <thead>\n",
       "    <tr style=\"text-align: right;\">\n",
       "      <th></th>\n",
       "      <th>id</th>\n",
       "      <th>skills</th>\n",
       "    </tr>\n",
       "  </thead>\n",
       "  <tbody>\n",
       "    <tr>\n",
       "      <th>0</th>\n",
       "      <td>19805</td>\n",
       "      <td>diploma;machining;cnc m;mould;conventional mac...</td>\n",
       "    </tr>\n",
       "    <tr>\n",
       "      <th>1</th>\n",
       "      <td>80208</td>\n",
       "      <td>Compensation;Benefits;HR Functions;Alm;Payroll...</td>\n",
       "    </tr>\n",
       "    <tr>\n",
       "      <th>2</th>\n",
       "      <td>122729</td>\n",
       "      <td>Simulink;stateflow;Matlab developer;targetlink...</td>\n",
       "    </tr>\n",
       "    <tr>\n",
       "      <th>3</th>\n",
       "      <td>4772</td>\n",
       "      <td>gis;analysis;geographic_information_system;esr...</td>\n",
       "    </tr>\n",
       "    <tr>\n",
       "      <th>4</th>\n",
       "      <td>44923</td>\n",
       "      <td>Full Stack Developer;AngularJS;SaaS applicatio...</td>\n",
       "    </tr>\n",
       "    <tr>\n",
       "      <th>...</th>\n",
       "      <td>...</td>\n",
       "      <td>...</td>\n",
       "    </tr>\n",
       "    <tr>\n",
       "      <th>10353</th>\n",
       "      <td>91663</td>\n",
       "      <td>customer interaction;knowledge;java;android;pr...</td>\n",
       "    </tr>\n",
       "    <tr>\n",
       "      <th>10354</th>\n",
       "      <td>86050</td>\n",
       "      <td>Technical Management;Project Management;MS SQL...</td>\n",
       "    </tr>\n",
       "    <tr>\n",
       "      <th>10355</th>\n",
       "      <td>54515</td>\n",
       "      <td>XCode;IOS;Objective C;Project Management;;;;;;...</td>\n",
       "    </tr>\n",
       "    <tr>\n",
       "      <th>10356</th>\n",
       "      <td>36160</td>\n",
       "      <td>Director;NoSQL;Node.js;CTO;SQL;JIRA;Agile;PHP;...</td>\n",
       "    </tr>\n",
       "    <tr>\n",
       "      <th>10357</th>\n",
       "      <td>34590</td>\n",
       "      <td>SQL Queries;Log Analysis;Hardware Networking;P...</td>\n",
       "    </tr>\n",
       "  </tbody>\n",
       "</table>\n",
       "<p>10358 rows × 2 columns</p>\n",
       "</div>"
      ],
      "text/plain": [
       "           id                                             skills\n",
       "0       19805  diploma;machining;cnc m;mould;conventional mac...\n",
       "1       80208  Compensation;Benefits;HR Functions;Alm;Payroll...\n",
       "2      122729  Simulink;stateflow;Matlab developer;targetlink...\n",
       "3        4772  gis;analysis;geographic_information_system;esr...\n",
       "4       44923  Full Stack Developer;AngularJS;SaaS applicatio...\n",
       "...       ...                                                ...\n",
       "10353   91663  customer interaction;knowledge;java;android;pr...\n",
       "10354   86050  Technical Management;Project Management;MS SQL...\n",
       "10355   54515  XCode;IOS;Objective C;Project Management;;;;;;...\n",
       "10356   36160  Director;NoSQL;Node.js;CTO;SQL;JIRA;Agile;PHP;...\n",
       "10357   34590  SQL Queries;Log Analysis;Hardware Networking;P...\n",
       "\n",
       "[10358 rows x 2 columns]"
      ]
     },
     "execution_count": 15,
     "metadata": {},
     "output_type": "execute_result"
    }
   ],
   "source": [
    "# Read the Skill2Vec dataset with skills requirements to roles\n",
    "df_roles = pd.read_csv(filepath_or_buffer=\"../2-data/ITroles.csv\", sep=\",\", encoding=\"latin1\")\n",
    "df_roles = df_roles[['id', 'skills']]\n",
    "df_roles"
   ]
  },
  {
   "attachments": {},
   "cell_type": "markdown",
   "metadata": {},
   "source": [
    "# Load Employees Dataset"
   ]
  },
  {
   "cell_type": "code",
   "execution_count": 16,
   "metadata": {},
   "outputs": [
    {
     "data": {
      "text/html": [
       "<div>\n",
       "<style scoped>\n",
       "    .dataframe tbody tr th:only-of-type {\n",
       "        vertical-align: middle;\n",
       "    }\n",
       "\n",
       "    .dataframe tbody tr th {\n",
       "        vertical-align: top;\n",
       "    }\n",
       "\n",
       "    .dataframe thead th {\n",
       "        text-align: right;\n",
       "    }\n",
       "</style>\n",
       "<table border=\"1\" class=\"dataframe\">\n",
       "  <thead>\n",
       "    <tr style=\"text-align: right;\">\n",
       "      <th></th>\n",
       "      <th>id</th>\n",
       "      <th>skills</th>\n",
       "    </tr>\n",
       "  </thead>\n",
       "  <tbody>\n",
       "    <tr>\n",
       "      <th>0</th>\n",
       "      <td>2</td>\n",
       "      <td>JavaScript;TypeScript</td>\n",
       "    </tr>\n",
       "    <tr>\n",
       "      <th>1</th>\n",
       "      <td>3</td>\n",
       "      <td>C#;C++;HTML/CSS;JavaScript;Python;Microsoft SQ...</td>\n",
       "    </tr>\n",
       "    <tr>\n",
       "      <th>2</th>\n",
       "      <td>4</td>\n",
       "      <td>C#;JavaScript;SQL;TypeScript;Microsoft SQL Ser...</td>\n",
       "    </tr>\n",
       "    <tr>\n",
       "      <th>3</th>\n",
       "      <td>5</td>\n",
       "      <td>C#;HTML/CSS;JavaScript;SQL;Swift;TypeScript;Cl...</td>\n",
       "    </tr>\n",
       "    <tr>\n",
       "      <th>4</th>\n",
       "      <td>6</td>\n",
       "      <td>C++;Lua;;;;;Homebrew</td>\n",
       "    </tr>\n",
       "    <tr>\n",
       "      <th>...</th>\n",
       "      <td>...</td>\n",
       "      <td>...</td>\n",
       "    </tr>\n",
       "    <tr>\n",
       "      <th>68821</th>\n",
       "      <td>73264</td>\n",
       "      <td>Bash/Shell;Dart;JavaScript;PHP;Python;SQL;Type...</td>\n",
       "    </tr>\n",
       "    <tr>\n",
       "      <th>68822</th>\n",
       "      <td>73265</td>\n",
       "      <td>Bash/Shell;HTML/CSS;JavaScript;Python;SQL;Elas...</td>\n",
       "    </tr>\n",
       "    <tr>\n",
       "      <th>68823</th>\n",
       "      <td>73266</td>\n",
       "      <td>HTML/CSS;JavaScript;PHP;Python;SQL;MariaDB;Mic...</td>\n",
       "    </tr>\n",
       "    <tr>\n",
       "      <th>68824</th>\n",
       "      <td>73267</td>\n",
       "      <td>C#;Delphi;VBA;Microsoft SQL Server;MongoDB;Oracle</td>\n",
       "    </tr>\n",
       "    <tr>\n",
       "      <th>68825</th>\n",
       "      <td>73268</td>\n",
       "      <td>C#;JavaScript;Lua;PowerShell;SQL;TypeScript;Mi...</td>\n",
       "    </tr>\n",
       "  </tbody>\n",
       "</table>\n",
       "<p>68826 rows × 2 columns</p>\n",
       "</div>"
      ],
      "text/plain": [
       "          id                                             skills\n",
       "0          2                              JavaScript;TypeScript\n",
       "1          3  C#;C++;HTML/CSS;JavaScript;Python;Microsoft SQ...\n",
       "2          4  C#;JavaScript;SQL;TypeScript;Microsoft SQL Ser...\n",
       "3          5  C#;HTML/CSS;JavaScript;SQL;Swift;TypeScript;Cl...\n",
       "4          6                               C++;Lua;;;;;Homebrew\n",
       "...      ...                                                ...\n",
       "68821  73264  Bash/Shell;Dart;JavaScript;PHP;Python;SQL;Type...\n",
       "68822  73265  Bash/Shell;HTML/CSS;JavaScript;Python;SQL;Elas...\n",
       "68823  73266  HTML/CSS;JavaScript;PHP;Python;SQL;MariaDB;Mic...\n",
       "68824  73267  C#;Delphi;VBA;Microsoft SQL Server;MongoDB;Oracle\n",
       "68825  73268  C#;JavaScript;Lua;PowerShell;SQL;TypeScript;Mi...\n",
       "\n",
       "[68826 rows x 2 columns]"
      ]
     },
     "execution_count": 16,
     "metadata": {},
     "output_type": "execute_result"
    }
   ],
   "source": [
    "df_people = pd.read_csv(filepath_or_buffer=\"../2-data/employees.csv\", sep=\",\", encoding=\"latin1\")\n",
    "df_people = df_people[['id', 'skills']]\n",
    "df_people"
   ]
  },
  {
   "attachments": {},
   "cell_type": "markdown",
   "metadata": {},
   "source": [
    "# Combine both Datasets"
   ]
  },
  {
   "cell_type": "code",
   "execution_count": 17,
   "metadata": {},
   "outputs": [
    {
     "data": {
      "text/html": [
       "<div>\n",
       "<style scoped>\n",
       "    .dataframe tbody tr th:only-of-type {\n",
       "        vertical-align: middle;\n",
       "    }\n",
       "\n",
       "    .dataframe tbody tr th {\n",
       "        vertical-align: top;\n",
       "    }\n",
       "\n",
       "    .dataframe thead th {\n",
       "        text-align: right;\n",
       "    }\n",
       "</style>\n",
       "<table border=\"1\" class=\"dataframe\">\n",
       "  <thead>\n",
       "    <tr style=\"text-align: right;\">\n",
       "      <th></th>\n",
       "      <th>id</th>\n",
       "      <th>skills</th>\n",
       "    </tr>\n",
       "  </thead>\n",
       "  <tbody>\n",
       "    <tr>\n",
       "      <th>0</th>\n",
       "      <td>2</td>\n",
       "      <td>JavaScript;TypeScript</td>\n",
       "    </tr>\n",
       "    <tr>\n",
       "      <th>1</th>\n",
       "      <td>3</td>\n",
       "      <td>C#;C++;HTML/CSS;JavaScript;Python;Microsoft SQ...</td>\n",
       "    </tr>\n",
       "    <tr>\n",
       "      <th>2</th>\n",
       "      <td>4</td>\n",
       "      <td>C#;JavaScript;SQL;TypeScript;Microsoft SQL Ser...</td>\n",
       "    </tr>\n",
       "    <tr>\n",
       "      <th>3</th>\n",
       "      <td>5</td>\n",
       "      <td>C#;HTML/CSS;JavaScript;SQL;Swift;TypeScript;Cl...</td>\n",
       "    </tr>\n",
       "    <tr>\n",
       "      <th>4</th>\n",
       "      <td>6</td>\n",
       "      <td>C++;Lua;;;;;Homebrew</td>\n",
       "    </tr>\n",
       "    <tr>\n",
       "      <th>...</th>\n",
       "      <td>...</td>\n",
       "      <td>...</td>\n",
       "    </tr>\n",
       "    <tr>\n",
       "      <th>10353</th>\n",
       "      <td>91663</td>\n",
       "      <td>customer interaction;knowledge;java;android;pr...</td>\n",
       "    </tr>\n",
       "    <tr>\n",
       "      <th>10354</th>\n",
       "      <td>86050</td>\n",
       "      <td>Technical Management;Project Management;MS SQL...</td>\n",
       "    </tr>\n",
       "    <tr>\n",
       "      <th>10355</th>\n",
       "      <td>54515</td>\n",
       "      <td>XCode;IOS;Objective C;Project Management;;;;;;...</td>\n",
       "    </tr>\n",
       "    <tr>\n",
       "      <th>10356</th>\n",
       "      <td>36160</td>\n",
       "      <td>Director;NoSQL;Node.js;CTO;SQL;JIRA;Agile;PHP;...</td>\n",
       "    </tr>\n",
       "    <tr>\n",
       "      <th>10357</th>\n",
       "      <td>34590</td>\n",
       "      <td>SQL Queries;Log Analysis;Hardware Networking;P...</td>\n",
       "    </tr>\n",
       "  </tbody>\n",
       "</table>\n",
       "<p>79184 rows × 2 columns</p>\n",
       "</div>"
      ],
      "text/plain": [
       "          id                                             skills\n",
       "0          2                              JavaScript;TypeScript\n",
       "1          3  C#;C++;HTML/CSS;JavaScript;Python;Microsoft SQ...\n",
       "2          4  C#;JavaScript;SQL;TypeScript;Microsoft SQL Ser...\n",
       "3          5  C#;HTML/CSS;JavaScript;SQL;Swift;TypeScript;Cl...\n",
       "4          6                               C++;Lua;;;;;Homebrew\n",
       "...      ...                                                ...\n",
       "10353  91663  customer interaction;knowledge;java;android;pr...\n",
       "10354  86050  Technical Management;Project Management;MS SQL...\n",
       "10355  54515  XCode;IOS;Objective C;Project Management;;;;;;...\n",
       "10356  36160  Director;NoSQL;Node.js;CTO;SQL;JIRA;Agile;PHP;...\n",
       "10357  34590  SQL Queries;Log Analysis;Hardware Networking;P...\n",
       "\n",
       "[79184 rows x 2 columns]"
      ]
     },
     "execution_count": 17,
     "metadata": {},
     "output_type": "execute_result"
    }
   ],
   "source": [
    "df_combined = pd.concat([df_people, df_roles])\n",
    "df_combined"
   ]
  },
  {
   "cell_type": "code",
   "execution_count": 18,
   "metadata": {},
   "outputs": [
    {
     "data": {
      "text/html": [
       "<div>\n",
       "<style scoped>\n",
       "    .dataframe tbody tr th:only-of-type {\n",
       "        vertical-align: middle;\n",
       "    }\n",
       "\n",
       "    .dataframe tbody tr th {\n",
       "        vertical-align: top;\n",
       "    }\n",
       "\n",
       "    .dataframe thead th {\n",
       "        text-align: right;\n",
       "    }\n",
       "</style>\n",
       "<table border=\"1\" class=\"dataframe\">\n",
       "  <thead>\n",
       "    <tr style=\"text-align: right;\">\n",
       "      <th></th>\n",
       "      <th>id</th>\n",
       "      <th>skills</th>\n",
       "    </tr>\n",
       "  </thead>\n",
       "  <tbody>\n",
       "    <tr>\n",
       "      <th>0</th>\n",
       "      <td>2</td>\n",
       "      <td>[JavaScript, TypeScript]</td>\n",
       "    </tr>\n",
       "    <tr>\n",
       "      <th>1</th>\n",
       "      <td>3</td>\n",
       "      <td>[C#, C++, HTML/CSS, JavaScript, Python, Micros...</td>\n",
       "    </tr>\n",
       "    <tr>\n",
       "      <th>2</th>\n",
       "      <td>4</td>\n",
       "      <td>[C#, JavaScript, SQL, TypeScript, Microsoft SQ...</td>\n",
       "    </tr>\n",
       "    <tr>\n",
       "      <th>3</th>\n",
       "      <td>5</td>\n",
       "      <td>[C#, HTML/CSS, JavaScript, SQL, Swift, TypeScr...</td>\n",
       "    </tr>\n",
       "    <tr>\n",
       "      <th>4</th>\n",
       "      <td>6</td>\n",
       "      <td>[C++, Lua, Homebrew]</td>\n",
       "    </tr>\n",
       "    <tr>\n",
       "      <th>...</th>\n",
       "      <td>...</td>\n",
       "      <td>...</td>\n",
       "    </tr>\n",
       "    <tr>\n",
       "      <th>10353</th>\n",
       "      <td>91663</td>\n",
       "      <td>[customer interaction, knowledge, java, androi...</td>\n",
       "    </tr>\n",
       "    <tr>\n",
       "      <th>10354</th>\n",
       "      <td>86050</td>\n",
       "      <td>[Technical Management, Project Management, MS ...</td>\n",
       "    </tr>\n",
       "    <tr>\n",
       "      <th>10355</th>\n",
       "      <td>54515</td>\n",
       "      <td>[XCode, IOS, Objective C, Project Management]</td>\n",
       "    </tr>\n",
       "    <tr>\n",
       "      <th>10356</th>\n",
       "      <td>36160</td>\n",
       "      <td>[Director, NoSQL, Node.js, CTO, SQL, JIRA, Agi...</td>\n",
       "    </tr>\n",
       "    <tr>\n",
       "      <th>10357</th>\n",
       "      <td>34590</td>\n",
       "      <td>[SQL Queries, Log Analysis, Hardware Networkin...</td>\n",
       "    </tr>\n",
       "  </tbody>\n",
       "</table>\n",
       "<p>79184 rows × 2 columns</p>\n",
       "</div>"
      ],
      "text/plain": [
       "          id                                             skills\n",
       "0          2                           [JavaScript, TypeScript]\n",
       "1          3  [C#, C++, HTML/CSS, JavaScript, Python, Micros...\n",
       "2          4  [C#, JavaScript, SQL, TypeScript, Microsoft SQ...\n",
       "3          5  [C#, HTML/CSS, JavaScript, SQL, Swift, TypeScr...\n",
       "4          6                               [C++, Lua, Homebrew]\n",
       "...      ...                                                ...\n",
       "10353  91663  [customer interaction, knowledge, java, androi...\n",
       "10354  86050  [Technical Management, Project Management, MS ...\n",
       "10355  54515      [XCode, IOS, Objective C, Project Management]\n",
       "10356  36160  [Director, NoSQL, Node.js, CTO, SQL, JIRA, Agi...\n",
       "10357  34590  [SQL Queries, Log Analysis, Hardware Networkin...\n",
       "\n",
       "[79184 rows x 2 columns]"
      ]
     },
     "execution_count": 18,
     "metadata": {},
     "output_type": "execute_result"
    }
   ],
   "source": [
    "# Make list out of skills\n",
    "df_combined['skills'] = df_combined['skills'].apply(lambda x: x.split(';'))\n",
    "\n",
    "# Remove empty skills\n",
    "df_combined['skills'] = df_combined['skills'].apply(lambda x: [value for value in x if value != ''])\n",
    "df_combined"
   ]
  },
  {
   "cell_type": "code",
   "execution_count": 19,
   "metadata": {},
   "outputs": [
    {
     "name": "stdout",
     "output_type": "stream",
     "text": [
      "Max: 960 - Mean: 14.359302384320065 - Median: 12.0\n"
     ]
    },
    {
     "data": {
      "text/html": [
       "<div>\n",
       "<style scoped>\n",
       "    .dataframe tbody tr th:only-of-type {\n",
       "        vertical-align: middle;\n",
       "    }\n",
       "\n",
       "    .dataframe tbody tr th {\n",
       "        vertical-align: top;\n",
       "    }\n",
       "\n",
       "    .dataframe thead th {\n",
       "        text-align: right;\n",
       "    }\n",
       "</style>\n",
       "<table border=\"1\" class=\"dataframe\">\n",
       "  <thead>\n",
       "    <tr style=\"text-align: right;\">\n",
       "      <th></th>\n",
       "      <th>id</th>\n",
       "      <th>skills</th>\n",
       "    </tr>\n",
       "  </thead>\n",
       "  <tbody>\n",
       "    <tr>\n",
       "      <th>0</th>\n",
       "      <td>2</td>\n",
       "      <td>[JavaScript, TypeScript]</td>\n",
       "    </tr>\n",
       "    <tr>\n",
       "      <th>1</th>\n",
       "      <td>3</td>\n",
       "      <td>[C#, C++, HTML/CSS, JavaScript, Python, Micros...</td>\n",
       "    </tr>\n",
       "    <tr>\n",
       "      <th>2</th>\n",
       "      <td>4</td>\n",
       "      <td>[C#, JavaScript, SQL, TypeScript, Microsoft SQ...</td>\n",
       "    </tr>\n",
       "    <tr>\n",
       "      <th>3</th>\n",
       "      <td>5</td>\n",
       "      <td>[C#, HTML/CSS, JavaScript, SQL, Swift, TypeScr...</td>\n",
       "    </tr>\n",
       "    <tr>\n",
       "      <th>4</th>\n",
       "      <td>6</td>\n",
       "      <td>[C++, Lua, Homebrew]</td>\n",
       "    </tr>\n",
       "    <tr>\n",
       "      <th>...</th>\n",
       "      <td>...</td>\n",
       "      <td>...</td>\n",
       "    </tr>\n",
       "    <tr>\n",
       "      <th>10353</th>\n",
       "      <td>91663</td>\n",
       "      <td>[customer interaction, knowledge, java, androi...</td>\n",
       "    </tr>\n",
       "    <tr>\n",
       "      <th>10354</th>\n",
       "      <td>86050</td>\n",
       "      <td>[Technical Management, Project Management, MS ...</td>\n",
       "    </tr>\n",
       "    <tr>\n",
       "      <th>10355</th>\n",
       "      <td>54515</td>\n",
       "      <td>[XCode, IOS, Objective C, Project Management]</td>\n",
       "    </tr>\n",
       "    <tr>\n",
       "      <th>10356</th>\n",
       "      <td>36160</td>\n",
       "      <td>[Director, NoSQL, Node.js, CTO, SQL, JIRA, Agi...</td>\n",
       "    </tr>\n",
       "    <tr>\n",
       "      <th>10357</th>\n",
       "      <td>34590</td>\n",
       "      <td>[SQL Queries, Log Analysis, Hardware Networkin...</td>\n",
       "    </tr>\n",
       "  </tbody>\n",
       "</table>\n",
       "<p>79184 rows × 2 columns</p>\n",
       "</div>"
      ],
      "text/plain": [
       "          id                                             skills\n",
       "0          2                           [JavaScript, TypeScript]\n",
       "1          3  [C#, C++, HTML/CSS, JavaScript, Python, Micros...\n",
       "2          4  [C#, JavaScript, SQL, TypeScript, Microsoft SQ...\n",
       "3          5  [C#, HTML/CSS, JavaScript, SQL, Swift, TypeScr...\n",
       "4          6                               [C++, Lua, Homebrew]\n",
       "...      ...                                                ...\n",
       "10353  91663  [customer interaction, knowledge, java, androi...\n",
       "10354  86050  [Technical Management, Project Management, MS ...\n",
       "10355  54515      [XCode, IOS, Objective C, Project Management]\n",
       "10356  36160  [Director, NoSQL, Node.js, CTO, SQL, JIRA, Agi...\n",
       "10357  34590  [SQL Queries, Log Analysis, Hardware Networkin...\n",
       "\n",
       "[79184 rows x 2 columns]"
      ]
     },
     "execution_count": 19,
     "metadata": {},
     "output_type": "execute_result"
    }
   ],
   "source": [
    "# Check usual number of skills per row\n",
    "df_combined['NumSkills'] = df_combined['skills'].apply(len)\n",
    "max_num = df_combined['NumSkills'].max()\n",
    "mean_num = df_combined['NumSkills'].mean()\n",
    "median_num = df_combined['NumSkills'].median()\n",
    "print(\"Max:\", max_num, \"- Mean:\",mean_num, \"- Median:\", median_num)\n",
    "\n",
    "df_combined = df_combined[['id','skills']]\n",
    "df_combined"
   ]
  },
  {
   "attachments": {},
   "cell_type": "markdown",
   "metadata": {},
   "source": [
    "# Word Embedding relating skills that are seen together"
   ]
  },
  {
   "attachments": {},
   "cell_type": "markdown",
   "metadata": {},
   "source": [
    "## Word Embedding for Skills"
   ]
  },
  {
   "cell_type": "code",
   "execution_count": 34,
   "metadata": {},
   "outputs": [],
   "source": [
    "# Create the Word2Vec model\n",
    "sentences = df_combined['skills'].tolist()\n",
    "model = Word2Vec(sentences, min_count=2, vector_size=300, window=7, sg=1)\n"
   ]
  },
  {
   "cell_type": "code",
   "execution_count": 36,
   "metadata": {},
   "outputs": [],
   "source": [
    "model.save(\"model-w2vcombinedfiltered\")"
   ]
  },
  {
   "cell_type": "code",
   "execution_count": 44,
   "metadata": {},
   "outputs": [],
   "source": [
    "model = Word2Vec.load(\"model-w2vcombinedfiltered\")"
   ]
  },
  {
   "attachments": {},
   "cell_type": "markdown",
   "metadata": {},
   "source": [
    "# Check Word Embedding"
   ]
  },
  {
   "cell_type": "code",
   "execution_count": 45,
   "metadata": {},
   "outputs": [
    {
     "data": {
      "text/plain": [
       "0.375141147279869"
      ]
     },
     "execution_count": 45,
     "metadata": {},
     "output_type": "execute_result"
    }
   ],
   "source": [
    "model.wv.wmdistance(['SQL'], ['Python', 'SQL'])\n"
   ]
  },
  {
   "cell_type": "code",
   "execution_count": 43,
   "metadata": {},
   "outputs": [
    {
     "data": {
      "text/plain": [
       "[('Neo4j', 0.8012363910675049),\n",
       " ('Oracle Cloud Infrastructure', 0.777561604976654),\n",
       " ('IBM DB2', 0.7762055993080139),\n",
       " ('Colocation', 0.7742033004760742),\n",
       " ('Angular.js', 0.7695358991622925),\n",
       " ('Angular', 0.7673373222351074),\n",
       " ('OVH', 0.7647529244422913),\n",
       " ('IBM Cloud or Watson', 0.764323890209198),\n",
       " ('Microsoft Azure', 0.7611520886421204),\n",
       " ('PowerShell', 0.7608779668807983),\n",
       " ('AWS', 0.7600660920143127),\n",
       " ('Redis', 0.7571758031845093),\n",
       " ('SQLite', 0.7569435834884644),\n",
       " ('Managed Hosting', 0.7567907571792603),\n",
       " ('Yarn', 0.7511159777641296),\n",
       " ('CouchDB', 0.7501111030578613),\n",
       " ('MongoDB', 0.7494320273399353),\n",
       " ('Vue.js', 0.7491989135742188),\n",
       " ('Kubernetes', 0.7491278052330017),\n",
       " ('VMware', 0.748875617980957)]"
      ]
     },
     "execution_count": 43,
     "metadata": {},
     "output_type": "execute_result"
    }
   ],
   "source": [
    "sims = model.wv.most_similar('SQL', topn=20)\n",
    "sims\n",
    "\n",
    "#model.wv.similarity('SQL', 'Python')\n",
    "\n",
    "#df_combined['skills'].max()\n"
   ]
  }
 ],
 "metadata": {
  "kernelspec": {
   "display_name": "Python 3.8.8 ('base')",
   "language": "python",
   "name": "python3"
  },
  "language_info": {
   "codemirror_mode": {
    "name": "ipython",
    "version": 3
   },
   "file_extension": ".py",
   "mimetype": "text/x-python",
   "name": "python",
   "nbconvert_exporter": "python",
   "pygments_lexer": "ipython3",
   "version": "3.8.8"
  },
  "orig_nbformat": 4,
  "vscode": {
   "interpreter": {
    "hash": "ff5c35ef38b2b7e6ead3b71d60022e5b4c6fa7102a3de358d839e718f29a2955"
   }
  }
 },
 "nbformat": 4,
 "nbformat_minor": 2
}
