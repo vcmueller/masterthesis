{
 "cells": [
  {
   "attachments": {},
   "cell_type": "markdown",
   "metadata": {},
   "source": [
    "# Word2Vec Word Embedding using skills from Job postings and Developers' Profiles\n",
    "\n",
    "The model is trained using the Word2Vec word embedding technique.\n",
    "\n",
    "The word embedding is built based on a data combination from job postings (Skill2vec dataset) and people's skills (Stack Overflow Developer Survey).\n",
    "\n",
    "The created model is saved to a file for later loading."
   ]
  },
  {
   "cell_type": "markdown",
   "metadata": {},
   "source": [
    "## Import Libraries"
   ]
  },
  {
   "cell_type": "code",
   "execution_count": 1,
   "metadata": {},
   "outputs": [],
   "source": [
    "import pandas as pd\n",
    "from gensim.models import Word2Vec\n",
    "import numpy as np"
   ]
  },
  {
   "attachments": {},
   "cell_type": "markdown",
   "metadata": {},
   "source": [
    "# Load Roles Dataset"
   ]
  },
  {
   "cell_type": "code",
   "execution_count": 2,
   "metadata": {},
   "outputs": [
    {
     "data": {
      "text/html": [
       "<div>\n",
       "<style scoped>\n",
       "    .dataframe tbody tr th:only-of-type {\n",
       "        vertical-align: middle;\n",
       "    }\n",
       "\n",
       "    .dataframe tbody tr th {\n",
       "        vertical-align: top;\n",
       "    }\n",
       "\n",
       "    .dataframe thead th {\n",
       "        text-align: right;\n",
       "    }\n",
       "</style>\n",
       "<table border=\"1\" class=\"dataframe\">\n",
       "  <thead>\n",
       "    <tr style=\"text-align: right;\">\n",
       "      <th></th>\n",
       "      <th>id</th>\n",
       "      <th>skills</th>\n",
       "    </tr>\n",
       "  </thead>\n",
       "  <tbody>\n",
       "    <tr>\n",
       "      <th>0</th>\n",
       "      <td>19805</td>\n",
       "      <td>diploma;machining;cnc m;mould;conventional mac...</td>\n",
       "    </tr>\n",
       "    <tr>\n",
       "      <th>1</th>\n",
       "      <td>80208</td>\n",
       "      <td>Compensation;Benefits;HR Functions;Alm;Payroll...</td>\n",
       "    </tr>\n",
       "    <tr>\n",
       "      <th>2</th>\n",
       "      <td>122729</td>\n",
       "      <td>Simulink;stateflow;Matlab developer;targetlink...</td>\n",
       "    </tr>\n",
       "    <tr>\n",
       "      <th>3</th>\n",
       "      <td>4772</td>\n",
       "      <td>gis;analysis;geographic_information_system;esr...</td>\n",
       "    </tr>\n",
       "    <tr>\n",
       "      <th>4</th>\n",
       "      <td>44923</td>\n",
       "      <td>Full Stack Developer;AngularJS;SaaS applicatio...</td>\n",
       "    </tr>\n",
       "    <tr>\n",
       "      <th>...</th>\n",
       "      <td>...</td>\n",
       "      <td>...</td>\n",
       "    </tr>\n",
       "    <tr>\n",
       "      <th>10353</th>\n",
       "      <td>91663</td>\n",
       "      <td>customer interaction;knowledge;java;android;pr...</td>\n",
       "    </tr>\n",
       "    <tr>\n",
       "      <th>10354</th>\n",
       "      <td>86050</td>\n",
       "      <td>Technical Management;Project Management;MS SQL...</td>\n",
       "    </tr>\n",
       "    <tr>\n",
       "      <th>10355</th>\n",
       "      <td>54515</td>\n",
       "      <td>XCode;IOS;Objective C;Project Management;;;;;;...</td>\n",
       "    </tr>\n",
       "    <tr>\n",
       "      <th>10356</th>\n",
       "      <td>36160</td>\n",
       "      <td>Director;NoSQL;Node.js;CTO;SQL;JIRA;Agile;PHP;...</td>\n",
       "    </tr>\n",
       "    <tr>\n",
       "      <th>10357</th>\n",
       "      <td>34590</td>\n",
       "      <td>SQL Queries;Log Analysis;Hardware Networking;P...</td>\n",
       "    </tr>\n",
       "  </tbody>\n",
       "</table>\n",
       "<p>10358 rows × 2 columns</p>\n",
       "</div>"
      ],
      "text/plain": [
       "           id                                             skills\n",
       "0       19805  diploma;machining;cnc m;mould;conventional mac...\n",
       "1       80208  Compensation;Benefits;HR Functions;Alm;Payroll...\n",
       "2      122729  Simulink;stateflow;Matlab developer;targetlink...\n",
       "3        4772  gis;analysis;geographic_information_system;esr...\n",
       "4       44923  Full Stack Developer;AngularJS;SaaS applicatio...\n",
       "...       ...                                                ...\n",
       "10353   91663  customer interaction;knowledge;java;android;pr...\n",
       "10354   86050  Technical Management;Project Management;MS SQL...\n",
       "10355   54515  XCode;IOS;Objective C;Project Management;;;;;;...\n",
       "10356   36160  Director;NoSQL;Node.js;CTO;SQL;JIRA;Agile;PHP;...\n",
       "10357   34590  SQL Queries;Log Analysis;Hardware Networking;P...\n",
       "\n",
       "[10358 rows x 2 columns]"
      ]
     },
     "execution_count": 2,
     "metadata": {},
     "output_type": "execute_result"
    }
   ],
   "source": [
    "# Read the Skill2Vec dataset with skills requirements to roles\n",
    "df_roles = pd.read_csv(filepath_or_buffer=\"../2-data/ITroles.csv\", sep=\",\", encoding=\"latin1\")\n",
    "df_roles = df_roles[['id', 'skills']]\n",
    "df_roles"
   ]
  },
  {
   "cell_type": "code",
   "execution_count": 28,
   "metadata": {},
   "outputs": [],
   "source": [
    "# Get list of all skills available to be selected - Source: Stack Overflow Survey questions\n",
    "#df_skills = pd.read_csv(filepath_or_buffer=\"../data/skill-list.csv\", sep=\",\", encoding=\"latin1\")\n",
    "\n",
    "\n",
    "#df_roles = df_roles.sample(1000) # get sample\n",
    "\n",
    "\n",
    "# Get only positions with skills that are mapped\n",
    "#skills = df_skills['skill']\n",
    "\n",
    "# Account for synonyms\n",
    "#synonym_skill = df_skills['synonym']\n",
    "#def find_index(arr, val):\n",
    "#    for i in range(len(arr)):\n",
    "#        if arr[i] == val:\n",
    "#            return i\n",
    "#    return -1\n",
    "\n",
    "#count = 0\n",
    "#for skill in skills:\n",
    "#    count = count + df_roles[\"skills\"].apply(lambda x: 1 if skill.lower() in [item.lower() for item in x.split(';')] or synonym_skill[find_index(skills, skill)] in [item.lower() for item in x.split(';')] else 0)\n",
    "#    df_roles['KeepRow'] = count\n",
    "\n",
    "# Get only roles that have mapped skills\n",
    "#df_roles = df_roles.loc[(df_roles['KeepRow'] > 0)]\n",
    "\n",
    "# Tokenize the skills\n",
    "#df_roles['skills'] = df_roles['skills'].apply(lambda x: x.split(';'))\n",
    "\n",
    "# Get only required columns\n",
    "#df_roles = df_roles[[\"id\", \"skills\"]]\n",
    "#df_roles"
   ]
  },
  {
   "attachments": {},
   "cell_type": "markdown",
   "metadata": {},
   "source": [
    "# Load Employees Dataset"
   ]
  },
  {
   "cell_type": "code",
   "execution_count": 3,
   "metadata": {},
   "outputs": [
    {
     "data": {
      "text/html": [
       "<div>\n",
       "<style scoped>\n",
       "    .dataframe tbody tr th:only-of-type {\n",
       "        vertical-align: middle;\n",
       "    }\n",
       "\n",
       "    .dataframe tbody tr th {\n",
       "        vertical-align: top;\n",
       "    }\n",
       "\n",
       "    .dataframe thead th {\n",
       "        text-align: right;\n",
       "    }\n",
       "</style>\n",
       "<table border=\"1\" class=\"dataframe\">\n",
       "  <thead>\n",
       "    <tr style=\"text-align: right;\">\n",
       "      <th></th>\n",
       "      <th>id</th>\n",
       "      <th>skills</th>\n",
       "    </tr>\n",
       "  </thead>\n",
       "  <tbody>\n",
       "    <tr>\n",
       "      <th>0</th>\n",
       "      <td>2</td>\n",
       "      <td>JavaScript;TypeScript</td>\n",
       "    </tr>\n",
       "    <tr>\n",
       "      <th>1</th>\n",
       "      <td>3</td>\n",
       "      <td>C#;C++;HTML/CSS;JavaScript;Python;Microsoft SQ...</td>\n",
       "    </tr>\n",
       "    <tr>\n",
       "      <th>2</th>\n",
       "      <td>4</td>\n",
       "      <td>C#;JavaScript;SQL;TypeScript;Microsoft SQL Ser...</td>\n",
       "    </tr>\n",
       "    <tr>\n",
       "      <th>3</th>\n",
       "      <td>5</td>\n",
       "      <td>C#;HTML/CSS;JavaScript;SQL;Swift;TypeScript;Cl...</td>\n",
       "    </tr>\n",
       "    <tr>\n",
       "      <th>4</th>\n",
       "      <td>6</td>\n",
       "      <td>C++;Lua;;;;;Homebrew</td>\n",
       "    </tr>\n",
       "    <tr>\n",
       "      <th>...</th>\n",
       "      <td>...</td>\n",
       "      <td>...</td>\n",
       "    </tr>\n",
       "    <tr>\n",
       "      <th>68545</th>\n",
       "      <td>73264</td>\n",
       "      <td>Bash/Shell;Dart;JavaScript;PHP;Python;SQL;Type...</td>\n",
       "    </tr>\n",
       "    <tr>\n",
       "      <th>68546</th>\n",
       "      <td>73265</td>\n",
       "      <td>Bash/Shell;HTML/CSS;JavaScript;Python;SQL;Elas...</td>\n",
       "    </tr>\n",
       "    <tr>\n",
       "      <th>68547</th>\n",
       "      <td>73266</td>\n",
       "      <td>HTML/CSS;JavaScript;PHP;Python;SQL;MariaDB;Mic...</td>\n",
       "    </tr>\n",
       "    <tr>\n",
       "      <th>68548</th>\n",
       "      <td>73267</td>\n",
       "      <td>C#;Delphi;VBA;Microsoft SQL Server;MongoDB;Oracle</td>\n",
       "    </tr>\n",
       "    <tr>\n",
       "      <th>68549</th>\n",
       "      <td>73268</td>\n",
       "      <td>C#;JavaScript;Lua;PowerShell;SQL;TypeScript;Mi...</td>\n",
       "    </tr>\n",
       "  </tbody>\n",
       "</table>\n",
       "<p>68550 rows × 2 columns</p>\n",
       "</div>"
      ],
      "text/plain": [
       "          id                                             skills\n",
       "0          2                              JavaScript;TypeScript\n",
       "1          3  C#;C++;HTML/CSS;JavaScript;Python;Microsoft SQ...\n",
       "2          4  C#;JavaScript;SQL;TypeScript;Microsoft SQL Ser...\n",
       "3          5  C#;HTML/CSS;JavaScript;SQL;Swift;TypeScript;Cl...\n",
       "4          6                               C++;Lua;;;;;Homebrew\n",
       "...      ...                                                ...\n",
       "68545  73264  Bash/Shell;Dart;JavaScript;PHP;Python;SQL;Type...\n",
       "68546  73265  Bash/Shell;HTML/CSS;JavaScript;Python;SQL;Elas...\n",
       "68547  73266  HTML/CSS;JavaScript;PHP;Python;SQL;MariaDB;Mic...\n",
       "68548  73267  C#;Delphi;VBA;Microsoft SQL Server;MongoDB;Oracle\n",
       "68549  73268  C#;JavaScript;Lua;PowerShell;SQL;TypeScript;Mi...\n",
       "\n",
       "[68550 rows x 2 columns]"
      ]
     },
     "execution_count": 3,
     "metadata": {},
     "output_type": "execute_result"
    }
   ],
   "source": [
    "df_people = pd.read_csv(filepath_or_buffer=\"../2-data/employees.csv\", sep=\",\", encoding=\"latin1\")\n",
    "df_people = df_people[['id', 'skills']]\n",
    "df_people"
   ]
  },
  {
   "attachments": {},
   "cell_type": "markdown",
   "metadata": {},
   "source": [
    "# Combine both Datasets"
   ]
  },
  {
   "cell_type": "code",
   "execution_count": 4,
   "metadata": {},
   "outputs": [
    {
     "data": {
      "text/html": [
       "<div>\n",
       "<style scoped>\n",
       "    .dataframe tbody tr th:only-of-type {\n",
       "        vertical-align: middle;\n",
       "    }\n",
       "\n",
       "    .dataframe tbody tr th {\n",
       "        vertical-align: top;\n",
       "    }\n",
       "\n",
       "    .dataframe thead th {\n",
       "        text-align: right;\n",
       "    }\n",
       "</style>\n",
       "<table border=\"1\" class=\"dataframe\">\n",
       "  <thead>\n",
       "    <tr style=\"text-align: right;\">\n",
       "      <th></th>\n",
       "      <th>id</th>\n",
       "      <th>skills</th>\n",
       "    </tr>\n",
       "  </thead>\n",
       "  <tbody>\n",
       "    <tr>\n",
       "      <th>0</th>\n",
       "      <td>2</td>\n",
       "      <td>JavaScript;TypeScript</td>\n",
       "    </tr>\n",
       "    <tr>\n",
       "      <th>1</th>\n",
       "      <td>3</td>\n",
       "      <td>C#;C++;HTML/CSS;JavaScript;Python;Microsoft SQ...</td>\n",
       "    </tr>\n",
       "    <tr>\n",
       "      <th>2</th>\n",
       "      <td>4</td>\n",
       "      <td>C#;JavaScript;SQL;TypeScript;Microsoft SQL Ser...</td>\n",
       "    </tr>\n",
       "    <tr>\n",
       "      <th>3</th>\n",
       "      <td>5</td>\n",
       "      <td>C#;HTML/CSS;JavaScript;SQL;Swift;TypeScript;Cl...</td>\n",
       "    </tr>\n",
       "    <tr>\n",
       "      <th>4</th>\n",
       "      <td>6</td>\n",
       "      <td>C++;Lua;;;;;Homebrew</td>\n",
       "    </tr>\n",
       "    <tr>\n",
       "      <th>...</th>\n",
       "      <td>...</td>\n",
       "      <td>...</td>\n",
       "    </tr>\n",
       "    <tr>\n",
       "      <th>10353</th>\n",
       "      <td>91663</td>\n",
       "      <td>customer interaction;knowledge;java;android;pr...</td>\n",
       "    </tr>\n",
       "    <tr>\n",
       "      <th>10354</th>\n",
       "      <td>86050</td>\n",
       "      <td>Technical Management;Project Management;MS SQL...</td>\n",
       "    </tr>\n",
       "    <tr>\n",
       "      <th>10355</th>\n",
       "      <td>54515</td>\n",
       "      <td>XCode;IOS;Objective C;Project Management;;;;;;...</td>\n",
       "    </tr>\n",
       "    <tr>\n",
       "      <th>10356</th>\n",
       "      <td>36160</td>\n",
       "      <td>Director;NoSQL;Node.js;CTO;SQL;JIRA;Agile;PHP;...</td>\n",
       "    </tr>\n",
       "    <tr>\n",
       "      <th>10357</th>\n",
       "      <td>34590</td>\n",
       "      <td>SQL Queries;Log Analysis;Hardware Networking;P...</td>\n",
       "    </tr>\n",
       "  </tbody>\n",
       "</table>\n",
       "<p>78908 rows × 2 columns</p>\n",
       "</div>"
      ],
      "text/plain": [
       "          id                                             skills\n",
       "0          2                              JavaScript;TypeScript\n",
       "1          3  C#;C++;HTML/CSS;JavaScript;Python;Microsoft SQ...\n",
       "2          4  C#;JavaScript;SQL;TypeScript;Microsoft SQL Ser...\n",
       "3          5  C#;HTML/CSS;JavaScript;SQL;Swift;TypeScript;Cl...\n",
       "4          6                               C++;Lua;;;;;Homebrew\n",
       "...      ...                                                ...\n",
       "10353  91663  customer interaction;knowledge;java;android;pr...\n",
       "10354  86050  Technical Management;Project Management;MS SQL...\n",
       "10355  54515  XCode;IOS;Objective C;Project Management;;;;;;...\n",
       "10356  36160  Director;NoSQL;Node.js;CTO;SQL;JIRA;Agile;PHP;...\n",
       "10357  34590  SQL Queries;Log Analysis;Hardware Networking;P...\n",
       "\n",
       "[78908 rows x 2 columns]"
      ]
     },
     "execution_count": 4,
     "metadata": {},
     "output_type": "execute_result"
    }
   ],
   "source": [
    "df_combined = pd.concat([df_people, df_roles])\n",
    "df_combined"
   ]
  },
  {
   "cell_type": "code",
   "execution_count": 5,
   "metadata": {},
   "outputs": [
    {
     "data": {
      "text/html": [
       "<div>\n",
       "<style scoped>\n",
       "    .dataframe tbody tr th:only-of-type {\n",
       "        vertical-align: middle;\n",
       "    }\n",
       "\n",
       "    .dataframe tbody tr th {\n",
       "        vertical-align: top;\n",
       "    }\n",
       "\n",
       "    .dataframe thead th {\n",
       "        text-align: right;\n",
       "    }\n",
       "</style>\n",
       "<table border=\"1\" class=\"dataframe\">\n",
       "  <thead>\n",
       "    <tr style=\"text-align: right;\">\n",
       "      <th></th>\n",
       "      <th>id</th>\n",
       "      <th>skills</th>\n",
       "    </tr>\n",
       "  </thead>\n",
       "  <tbody>\n",
       "    <tr>\n",
       "      <th>0</th>\n",
       "      <td>2</td>\n",
       "      <td>[JavaScript, TypeScript]</td>\n",
       "    </tr>\n",
       "    <tr>\n",
       "      <th>1</th>\n",
       "      <td>3</td>\n",
       "      <td>[C#, C++, HTML/CSS, JavaScript, Python, Micros...</td>\n",
       "    </tr>\n",
       "    <tr>\n",
       "      <th>2</th>\n",
       "      <td>4</td>\n",
       "      <td>[C#, JavaScript, SQL, TypeScript, Microsoft SQ...</td>\n",
       "    </tr>\n",
       "    <tr>\n",
       "      <th>3</th>\n",
       "      <td>5</td>\n",
       "      <td>[C#, HTML/CSS, JavaScript, SQL, Swift, TypeScr...</td>\n",
       "    </tr>\n",
       "    <tr>\n",
       "      <th>4</th>\n",
       "      <td>6</td>\n",
       "      <td>[C++, Lua, , , , , Homebrew]</td>\n",
       "    </tr>\n",
       "    <tr>\n",
       "      <th>...</th>\n",
       "      <td>...</td>\n",
       "      <td>...</td>\n",
       "    </tr>\n",
       "    <tr>\n",
       "      <th>10353</th>\n",
       "      <td>91663</td>\n",
       "      <td>[customer interaction, knowledge, java, androi...</td>\n",
       "    </tr>\n",
       "    <tr>\n",
       "      <th>10354</th>\n",
       "      <td>86050</td>\n",
       "      <td>[Technical Management, Project Management, MS ...</td>\n",
       "    </tr>\n",
       "    <tr>\n",
       "      <th>10355</th>\n",
       "      <td>54515</td>\n",
       "      <td>[XCode, IOS, Objective C, Project Management, ...</td>\n",
       "    </tr>\n",
       "    <tr>\n",
       "      <th>10356</th>\n",
       "      <td>36160</td>\n",
       "      <td>[Director, NoSQL, Node.js, CTO, SQL, JIRA, Agi...</td>\n",
       "    </tr>\n",
       "    <tr>\n",
       "      <th>10357</th>\n",
       "      <td>34590</td>\n",
       "      <td>[SQL Queries, Log Analysis, Hardware Networkin...</td>\n",
       "    </tr>\n",
       "  </tbody>\n",
       "</table>\n",
       "<p>78908 rows × 2 columns</p>\n",
       "</div>"
      ],
      "text/plain": [
       "          id                                             skills\n",
       "0          2                           [JavaScript, TypeScript]\n",
       "1          3  [C#, C++, HTML/CSS, JavaScript, Python, Micros...\n",
       "2          4  [C#, JavaScript, SQL, TypeScript, Microsoft SQ...\n",
       "3          5  [C#, HTML/CSS, JavaScript, SQL, Swift, TypeScr...\n",
       "4          6                       [C++, Lua, , , , , Homebrew]\n",
       "...      ...                                                ...\n",
       "10353  91663  [customer interaction, knowledge, java, androi...\n",
       "10354  86050  [Technical Management, Project Management, MS ...\n",
       "10355  54515  [XCode, IOS, Objective C, Project Management, ...\n",
       "10356  36160  [Director, NoSQL, Node.js, CTO, SQL, JIRA, Agi...\n",
       "10357  34590  [SQL Queries, Log Analysis, Hardware Networkin...\n",
       "\n",
       "[78908 rows x 2 columns]"
      ]
     },
     "execution_count": 5,
     "metadata": {},
     "output_type": "execute_result"
    }
   ],
   "source": [
    "df_combined['skills'] = df_combined['skills'].apply(lambda x: x.split(';'))\n",
    "df_combined"
   ]
  },
  {
   "attachments": {},
   "cell_type": "markdown",
   "metadata": {},
   "source": [
    "# Word Embedding relating skills that are seen together"
   ]
  },
  {
   "attachments": {},
   "cell_type": "markdown",
   "metadata": {},
   "source": [
    "## Word Embedding for Skills"
   ]
  },
  {
   "cell_type": "code",
   "execution_count": 6,
   "metadata": {},
   "outputs": [],
   "source": [
    "\n",
    "#df_combined = df_combined.sample(100)\n",
    "\n",
    "# Train the Word2Vec model\n",
    "sentences = df_combined['skills'].tolist()\n",
    "model = Word2Vec(sentences, min_count=1, vector_size=300, window=300, sg=1)\n"
   ]
  },
  {
   "cell_type": "code",
   "execution_count": 7,
   "metadata": {},
   "outputs": [],
   "source": [
    "model.save(\"model-w2vcombinedfiltered\")"
   ]
  },
  {
   "cell_type": "code",
   "execution_count": 4,
   "metadata": {},
   "outputs": [],
   "source": [
    "model = Word2Vec.load(\"model-w2vcombinedfiltered\")\n"
   ]
  },
  {
   "attachments": {},
   "cell_type": "markdown",
   "metadata": {},
   "source": [
    "# Check Word Embedding"
   ]
  },
  {
   "cell_type": "code",
   "execution_count": 8,
   "metadata": {},
   "outputs": [
    {
     "data": {
      "text/plain": [
       "0.5123734885286234"
      ]
     },
     "execution_count": 8,
     "metadata": {},
     "output_type": "execute_result"
    }
   ],
   "source": [
    "model.wv.wmdistance(['SQL'], ['Python', 'SQL'])\n"
   ]
  }
 ],
 "metadata": {
  "kernelspec": {
   "display_name": "Python 3.8.8 ('base')",
   "language": "python",
   "name": "python3"
  },
  "language_info": {
   "codemirror_mode": {
    "name": "ipython",
    "version": 3
   },
   "file_extension": ".py",
   "mimetype": "text/x-python",
   "name": "python",
   "nbconvert_exporter": "python",
   "pygments_lexer": "ipython3",
   "version": "3.8.8"
  },
  "orig_nbformat": 4,
  "vscode": {
   "interpreter": {
    "hash": "ff5c35ef38b2b7e6ead3b71d60022e5b4c6fa7102a3de358d839e718f29a2955"
   }
  }
 },
 "nbformat": 4,
 "nbformat_minor": 2
}
