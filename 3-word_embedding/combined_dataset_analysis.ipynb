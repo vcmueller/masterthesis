{
 "cells": [
  {
   "attachments": {},
   "cell_type": "markdown",
   "metadata": {},
   "source": [
    "# Analysis of the Combined Dataset created for the Word Embedding\n",
    "\n"
   ]
  },
  {
   "attachments": {},
   "cell_type": "markdown",
   "metadata": {},
   "source": [
    "## Import Libraries"
   ]
  },
  {
   "cell_type": "code",
   "execution_count": 21,
   "metadata": {},
   "outputs": [],
   "source": [
    "import pandas as pd\n",
    "import numpy as np\n",
    "import matplotlib.pyplot as plt\n"
   ]
  },
  {
   "attachments": {},
   "cell_type": "markdown",
   "metadata": {},
   "source": [
    "# Load Combined Dataset"
   ]
  },
  {
   "cell_type": "code",
   "execution_count": 27,
   "metadata": {},
   "outputs": [
    {
     "data": {
      "text/html": [
       "<div>\n",
       "<style scoped>\n",
       "    .dataframe tbody tr th:only-of-type {\n",
       "        vertical-align: middle;\n",
       "    }\n",
       "\n",
       "    .dataframe tbody tr th {\n",
       "        vertical-align: top;\n",
       "    }\n",
       "\n",
       "    .dataframe thead th {\n",
       "        text-align: right;\n",
       "    }\n",
       "</style>\n",
       "<table border=\"1\" class=\"dataframe\">\n",
       "  <thead>\n",
       "    <tr style=\"text-align: right;\">\n",
       "      <th></th>\n",
       "      <th>Unnamed: 0</th>\n",
       "      <th>id</th>\n",
       "      <th>skills</th>\n",
       "      <th>NumSkills</th>\n",
       "    </tr>\n",
       "  </thead>\n",
       "  <tbody>\n",
       "    <tr>\n",
       "      <th>0</th>\n",
       "      <td>0</td>\n",
       "      <td>2</td>\n",
       "      <td>['JavaScript', 'TypeScript']</td>\n",
       "      <td>2</td>\n",
       "    </tr>\n",
       "    <tr>\n",
       "      <th>1</th>\n",
       "      <td>1</td>\n",
       "      <td>3</td>\n",
       "      <td>['C#', 'C++', 'HTML/CSS', 'JavaScript', 'Pytho...</td>\n",
       "      <td>8</td>\n",
       "    </tr>\n",
       "    <tr>\n",
       "      <th>2</th>\n",
       "      <td>2</td>\n",
       "      <td>4</td>\n",
       "      <td>['C#', 'JavaScript', 'SQL', 'TypeScript', 'Mic...</td>\n",
       "      <td>8</td>\n",
       "    </tr>\n",
       "    <tr>\n",
       "      <th>3</th>\n",
       "      <td>3</td>\n",
       "      <td>5</td>\n",
       "      <td>['C#', 'HTML/CSS', 'JavaScript', 'SQL', 'Swift...</td>\n",
       "      <td>19</td>\n",
       "    </tr>\n",
       "    <tr>\n",
       "      <th>4</th>\n",
       "      <td>4</td>\n",
       "      <td>6</td>\n",
       "      <td>['C++', 'Lua', 'Homebrew']</td>\n",
       "      <td>3</td>\n",
       "    </tr>\n",
       "    <tr>\n",
       "      <th>...</th>\n",
       "      <td>...</td>\n",
       "      <td>...</td>\n",
       "      <td>...</td>\n",
       "      <td>...</td>\n",
       "    </tr>\n",
       "    <tr>\n",
       "      <th>79179</th>\n",
       "      <td>10353</td>\n",
       "      <td>91663</td>\n",
       "      <td>['customer interaction', 'knowledge', 'java', ...</td>\n",
       "      <td>10</td>\n",
       "    </tr>\n",
       "    <tr>\n",
       "      <th>79180</th>\n",
       "      <td>10354</td>\n",
       "      <td>86050</td>\n",
       "      <td>['Technical Management', 'Project Management',...</td>\n",
       "      <td>6</td>\n",
       "    </tr>\n",
       "    <tr>\n",
       "      <th>79181</th>\n",
       "      <td>10355</td>\n",
       "      <td>54515</td>\n",
       "      <td>['XCode', 'IOS', 'Objective C', 'Project Manag...</td>\n",
       "      <td>4</td>\n",
       "    </tr>\n",
       "    <tr>\n",
       "      <th>79182</th>\n",
       "      <td>10356</td>\n",
       "      <td>36160</td>\n",
       "      <td>['Director', 'NoSQL', 'Node.js', 'CTO', 'SQL',...</td>\n",
       "      <td>10</td>\n",
       "    </tr>\n",
       "    <tr>\n",
       "      <th>79183</th>\n",
       "      <td>10357</td>\n",
       "      <td>34590</td>\n",
       "      <td>['SQL Queries', 'Log Analysis', 'Hardware Netw...</td>\n",
       "      <td>10</td>\n",
       "    </tr>\n",
       "  </tbody>\n",
       "</table>\n",
       "<p>79184 rows × 4 columns</p>\n",
       "</div>"
      ],
      "text/plain": [
       "       Unnamed: 0     id                                             skills  \\\n",
       "0               0      2                       ['JavaScript', 'TypeScript']   \n",
       "1               1      3  ['C#', 'C++', 'HTML/CSS', 'JavaScript', 'Pytho...   \n",
       "2               2      4  ['C#', 'JavaScript', 'SQL', 'TypeScript', 'Mic...   \n",
       "3               3      5  ['C#', 'HTML/CSS', 'JavaScript', 'SQL', 'Swift...   \n",
       "4               4      6                         ['C++', 'Lua', 'Homebrew']   \n",
       "...           ...    ...                                                ...   \n",
       "79179       10353  91663  ['customer interaction', 'knowledge', 'java', ...   \n",
       "79180       10354  86050  ['Technical Management', 'Project Management',...   \n",
       "79181       10355  54515  ['XCode', 'IOS', 'Objective C', 'Project Manag...   \n",
       "79182       10356  36160  ['Director', 'NoSQL', 'Node.js', 'CTO', 'SQL',...   \n",
       "79183       10357  34590  ['SQL Queries', 'Log Analysis', 'Hardware Netw...   \n",
       "\n",
       "       NumSkills  \n",
       "0              2  \n",
       "1              8  \n",
       "2              8  \n",
       "3             19  \n",
       "4              3  \n",
       "...          ...  \n",
       "79179         10  \n",
       "79180          6  \n",
       "79181          4  \n",
       "79182         10  \n",
       "79183         10  \n",
       "\n",
       "[79184 rows x 4 columns]"
      ]
     },
     "execution_count": 27,
     "metadata": {},
     "output_type": "execute_result"
    }
   ],
   "source": [
    "# Read the Skill2Vec dataset with skills requirements to roles\n",
    "df = pd.read_csv(filepath_or_buffer=\"combined_dataset.csv\", sep=\",\", encoding=\"latin1\")\n",
    "df"
   ]
  },
  {
   "cell_type": "code",
   "execution_count": 28,
   "metadata": {},
   "outputs": [
    {
     "data": {
      "text/plain": [
       "0.25     8.0\n",
       "0.50    12.0\n",
       "0.75    18.0\n",
       "Name: NumSkills, dtype: float64"
      ]
     },
     "execution_count": 28,
     "metadata": {},
     "output_type": "execute_result"
    }
   ],
   "source": [
    "quartiles = df['NumSkills'].quantile([0.25, 0.5, 0.75])\n",
    "quartiles\n"
   ]
  },
  {
   "cell_type": "code",
   "execution_count": 29,
   "metadata": {},
   "outputs": [
    {
     "data": {
      "image/png": "[encoded data removed]",
      "text/plain": [
       "<Figure size 432x288 with 1 Axes>"
      ]
     },
     "metadata": {
      "needs_background": "light"
     },
     "output_type": "display_data"
    }
   ],
   "source": [
    "df.boxplot(column='NumSkills')\n",
    "plt.title('Distribution of Quartiles for Number')\n",
    "plt.show()\n"
   ]
  },
  {
   "cell_type": "code",
   "execution_count": 30,
   "metadata": {},
   "outputs": [
    {
     "data": {
      "image/png": "[encoded data removed]",
      "text/plain": [
       "<Figure size 432x288 with 1 Axes>"
      ]
     },
     "metadata": {
      "needs_background": "light"
     },
     "output_type": "display_data"
    }
   ],
   "source": [
    "\n",
    "plt.hist(df['NumSkills'], bins=100)\n",
    "\n",
    "plt.title('Data Distribution of Number of Skills')\n",
    "plt.xlabel('Value')\n",
    "plt.ylabel('Frequency')\n",
    "plt.show()\n"
   ]
  }
 ],
 "metadata": {
  "kernelspec": {
   "display_name": "Python 3.8.8 ('base')",
   "language": "python",
   "name": "python3"
  },
  "language_info": {
   "codemirror_mode": {
    "name": "ipython",
    "version": 3
   },
   "file_extension": ".py",
   "mimetype": "text/x-python",
   "name": "python",
   "nbconvert_exporter": "python",
   "pygments_lexer": "ipython3",
   "version": "3.8.8"
  },
  "orig_nbformat": 4,
  "vscode": {
   "interpreter": {
    "hash": "ff5c35ef38b2b7e6ead3b71d60022e5b4c6fa7102a3de358d839e718f29a2955"
   }
  }
 },
 "nbformat": 4,
 "nbformat_minor": 2
}
