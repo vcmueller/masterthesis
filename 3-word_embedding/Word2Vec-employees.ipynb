{
 "cells": [
  {
   "attachments": {},
   "cell_type": "markdown",
   "metadata": {},
   "source": [
    "# Word2Vec Word Embedding using skills from Developers' Profiles\n",
    "\n",
    "The model is trained using the Word2Vec word embedding technique.\n",
    "\n",
    "The word embedding is built based on a data combination from people's skills (Stack Overflow Developer Survey).\n",
    "\n",
    "The created model is saved to a file for later loading."
   ]
  },
  {
   "attachments": {},
   "cell_type": "markdown",
   "metadata": {},
   "source": [
    "## Import Libraries"
   ]
  },
  {
   "cell_type": "code",
   "execution_count": 4,
   "metadata": {},
   "outputs": [],
   "source": [
    "import pandas as pd\n",
    "from gensim.models import Word2Vec\n",
    "import numpy as np"
   ]
  },
  {
   "attachments": {},
   "cell_type": "markdown",
   "metadata": {},
   "source": [
    "# Load Employees Dataset"
   ]
  },
  {
   "cell_type": "code",
   "execution_count": 5,
   "metadata": {},
   "outputs": [
    {
     "data": {
      "text/html": [
       "<div>\n",
       "<style scoped>\n",
       "    .dataframe tbody tr th:only-of-type {\n",
       "        vertical-align: middle;\n",
       "    }\n",
       "\n",
       "    .dataframe tbody tr th {\n",
       "        vertical-align: top;\n",
       "    }\n",
       "\n",
       "    .dataframe thead th {\n",
       "        text-align: right;\n",
       "    }\n",
       "</style>\n",
       "<table border=\"1\" class=\"dataframe\">\n",
       "  <thead>\n",
       "    <tr style=\"text-align: right;\">\n",
       "      <th></th>\n",
       "      <th>id</th>\n",
       "      <th>skills</th>\n",
       "    </tr>\n",
       "  </thead>\n",
       "  <tbody>\n",
       "    <tr>\n",
       "      <th>0</th>\n",
       "      <td>2</td>\n",
       "      <td>JavaScript;TypeScript</td>\n",
       "    </tr>\n",
       "    <tr>\n",
       "      <th>1</th>\n",
       "      <td>3</td>\n",
       "      <td>C#;C++;HTML/CSS;JavaScript;Python;Microsoft SQ...</td>\n",
       "    </tr>\n",
       "    <tr>\n",
       "      <th>2</th>\n",
       "      <td>4</td>\n",
       "      <td>C#;JavaScript;SQL;TypeScript;Microsoft SQL Ser...</td>\n",
       "    </tr>\n",
       "    <tr>\n",
       "      <th>3</th>\n",
       "      <td>5</td>\n",
       "      <td>C#;HTML/CSS;JavaScript;SQL;Swift;TypeScript;Cl...</td>\n",
       "    </tr>\n",
       "    <tr>\n",
       "      <th>4</th>\n",
       "      <td>6</td>\n",
       "      <td>C++;Lua;;;;;Homebrew</td>\n",
       "    </tr>\n",
       "    <tr>\n",
       "      <th>...</th>\n",
       "      <td>...</td>\n",
       "      <td>...</td>\n",
       "    </tr>\n",
       "    <tr>\n",
       "      <th>68821</th>\n",
       "      <td>73264</td>\n",
       "      <td>Bash/Shell;Dart;JavaScript;PHP;Python;SQL;Type...</td>\n",
       "    </tr>\n",
       "    <tr>\n",
       "      <th>68822</th>\n",
       "      <td>73265</td>\n",
       "      <td>Bash/Shell;HTML/CSS;JavaScript;Python;SQL;Elas...</td>\n",
       "    </tr>\n",
       "    <tr>\n",
       "      <th>68823</th>\n",
       "      <td>73266</td>\n",
       "      <td>HTML/CSS;JavaScript;PHP;Python;SQL;MariaDB;Mic...</td>\n",
       "    </tr>\n",
       "    <tr>\n",
       "      <th>68824</th>\n",
       "      <td>73267</td>\n",
       "      <td>C#;Delphi;VBA;Microsoft SQL Server;MongoDB;Oracle</td>\n",
       "    </tr>\n",
       "    <tr>\n",
       "      <th>68825</th>\n",
       "      <td>73268</td>\n",
       "      <td>C#;JavaScript;Lua;PowerShell;SQL;TypeScript;Mi...</td>\n",
       "    </tr>\n",
       "  </tbody>\n",
       "</table>\n",
       "<p>68826 rows × 2 columns</p>\n",
       "</div>"
      ],
      "text/plain": [
       "          id                                             skills\n",
       "0          2                              JavaScript;TypeScript\n",
       "1          3  C#;C++;HTML/CSS;JavaScript;Python;Microsoft SQ...\n",
       "2          4  C#;JavaScript;SQL;TypeScript;Microsoft SQL Ser...\n",
       "3          5  C#;HTML/CSS;JavaScript;SQL;Swift;TypeScript;Cl...\n",
       "4          6                               C++;Lua;;;;;Homebrew\n",
       "...      ...                                                ...\n",
       "68821  73264  Bash/Shell;Dart;JavaScript;PHP;Python;SQL;Type...\n",
       "68822  73265  Bash/Shell;HTML/CSS;JavaScript;Python;SQL;Elas...\n",
       "68823  73266  HTML/CSS;JavaScript;PHP;Python;SQL;MariaDB;Mic...\n",
       "68824  73267  C#;Delphi;VBA;Microsoft SQL Server;MongoDB;Oracle\n",
       "68825  73268  C#;JavaScript;Lua;PowerShell;SQL;TypeScript;Mi...\n",
       "\n",
       "[68826 rows x 2 columns]"
      ]
     },
     "execution_count": 5,
     "metadata": {},
     "output_type": "execute_result"
    }
   ],
   "source": [
    "df_people = pd.read_csv(filepath_or_buffer=\"../2-data/employees.csv\", sep=\",\", encoding=\"latin1\")\n",
    "df_people = df_people[['id', 'skills']]\n",
    "df_people"
   ]
  },
  {
   "cell_type": "code",
   "execution_count": 12,
   "metadata": {},
   "outputs": [
    {
     "data": {
      "text/html": [
       "<div>\n",
       "<style scoped>\n",
       "    .dataframe tbody tr th:only-of-type {\n",
       "        vertical-align: middle;\n",
       "    }\n",
       "\n",
       "    .dataframe tbody tr th {\n",
       "        vertical-align: top;\n",
       "    }\n",
       "\n",
       "    .dataframe thead th {\n",
       "        text-align: right;\n",
       "    }\n",
       "</style>\n",
       "<table border=\"1\" class=\"dataframe\">\n",
       "  <thead>\n",
       "    <tr style=\"text-align: right;\">\n",
       "      <th></th>\n",
       "      <th>id</th>\n",
       "      <th>skills</th>\n",
       "      <th>NumSkills</th>\n",
       "    </tr>\n",
       "  </thead>\n",
       "  <tbody>\n",
       "    <tr>\n",
       "      <th>0</th>\n",
       "      <td>2</td>\n",
       "      <td>[JavaScript, TypeScript]</td>\n",
       "      <td>21</td>\n",
       "    </tr>\n",
       "    <tr>\n",
       "      <th>1</th>\n",
       "      <td>3</td>\n",
       "      <td>[C#, C++, HTML/CSS, JavaScript, Python, Micros...</td>\n",
       "      <td>73</td>\n",
       "    </tr>\n",
       "    <tr>\n",
       "      <th>2</th>\n",
       "      <td>4</td>\n",
       "      <td>[C#, JavaScript, SQL, TypeScript, Microsoft SQ...</td>\n",
       "      <td>77</td>\n",
       "    </tr>\n",
       "    <tr>\n",
       "      <th>3</th>\n",
       "      <td>5</td>\n",
       "      <td>[C#, HTML/CSS, JavaScript, SQL, Swift, TypeScr...</td>\n",
       "      <td>200</td>\n",
       "    </tr>\n",
       "    <tr>\n",
       "      <th>4</th>\n",
       "      <td>6</td>\n",
       "      <td>[C++, Lua, Homebrew]</td>\n",
       "      <td>20</td>\n",
       "    </tr>\n",
       "    <tr>\n",
       "      <th>...</th>\n",
       "      <td>...</td>\n",
       "      <td>...</td>\n",
       "      <td>...</td>\n",
       "    </tr>\n",
       "    <tr>\n",
       "      <th>68821</th>\n",
       "      <td>73264</td>\n",
       "      <td>[Bash/Shell, Dart, JavaScript, PHP, Python, SQ...</td>\n",
       "      <td>182</td>\n",
       "    </tr>\n",
       "    <tr>\n",
       "      <th>68822</th>\n",
       "      <td>73265</td>\n",
       "      <td>[Bash/Shell, HTML/CSS, JavaScript, Python, SQL...</td>\n",
       "      <td>184</td>\n",
       "    </tr>\n",
       "    <tr>\n",
       "      <th>68823</th>\n",
       "      <td>73266</td>\n",
       "      <td>[HTML/CSS, JavaScript, PHP, Python, SQL, Maria...</td>\n",
       "      <td>172</td>\n",
       "    </tr>\n",
       "    <tr>\n",
       "      <th>68824</th>\n",
       "      <td>73267</td>\n",
       "      <td>[C#, Delphi, VBA, Microsoft SQL Server, MongoD...</td>\n",
       "      <td>49</td>\n",
       "    </tr>\n",
       "    <tr>\n",
       "      <th>68825</th>\n",
       "      <td>73268</td>\n",
       "      <td>[C#, JavaScript, Lua, PowerShell, SQL, TypeScr...</td>\n",
       "      <td>202</td>\n",
       "    </tr>\n",
       "  </tbody>\n",
       "</table>\n",
       "<p>68826 rows × 3 columns</p>\n",
       "</div>"
      ],
      "text/plain": [
       "          id                                             skills  NumSkills\n",
       "0          2                           [JavaScript, TypeScript]         21\n",
       "1          3  [C#, C++, HTML/CSS, JavaScript, Python, Micros...         73\n",
       "2          4  [C#, JavaScript, SQL, TypeScript, Microsoft SQ...         77\n",
       "3          5  [C#, HTML/CSS, JavaScript, SQL, Swift, TypeScr...        200\n",
       "4          6                               [C++, Lua, Homebrew]         20\n",
       "...      ...                                                ...        ...\n",
       "68821  73264  [Bash/Shell, Dart, JavaScript, PHP, Python, SQ...        182\n",
       "68822  73265  [Bash/Shell, HTML/CSS, JavaScript, Python, SQL...        184\n",
       "68823  73266  [HTML/CSS, JavaScript, PHP, Python, SQL, Maria...        172\n",
       "68824  73267  [C#, Delphi, VBA, Microsoft SQL Server, MongoD...         49\n",
       "68825  73268  [C#, JavaScript, Lua, PowerShell, SQL, TypeScr...        202\n",
       "\n",
       "[68826 rows x 3 columns]"
      ]
     },
     "execution_count": 12,
     "metadata": {},
     "output_type": "execute_result"
    }
   ],
   "source": [
    "# Make list out of skills\n",
    "df_combined = df_people\n",
    "# Make list out of skills\n",
    "df_combined['skills'] = df_combined['skills'].apply(lambda x: x.split(';'))\n",
    "\n",
    "# Remove empty skills\n",
    "df_combined['skills'] = df_combined['skills'].apply(lambda x: [value for value in x if value != ''])\n",
    "df_combined\n"
   ]
  },
  {
   "cell_type": "code",
   "execution_count": 13,
   "metadata": {},
   "outputs": [
    {
     "name": "stdout",
     "output_type": "stream",
     "text": [
      "Max: 134 - Mean: 14.746403975241915 - Median: 13.0\n"
     ]
    },
    {
     "data": {
      "text/html": [
       "<div>\n",
       "<style scoped>\n",
       "    .dataframe tbody tr th:only-of-type {\n",
       "        vertical-align: middle;\n",
       "    }\n",
       "\n",
       "    .dataframe tbody tr th {\n",
       "        vertical-align: top;\n",
       "    }\n",
       "\n",
       "    .dataframe thead th {\n",
       "        text-align: right;\n",
       "    }\n",
       "</style>\n",
       "<table border=\"1\" class=\"dataframe\">\n",
       "  <thead>\n",
       "    <tr style=\"text-align: right;\">\n",
       "      <th></th>\n",
       "      <th>id</th>\n",
       "      <th>skills</th>\n",
       "    </tr>\n",
       "  </thead>\n",
       "  <tbody>\n",
       "    <tr>\n",
       "      <th>0</th>\n",
       "      <td>2</td>\n",
       "      <td>[JavaScript, TypeScript]</td>\n",
       "    </tr>\n",
       "    <tr>\n",
       "      <th>1</th>\n",
       "      <td>3</td>\n",
       "      <td>[C#, C++, HTML/CSS, JavaScript, Python, Micros...</td>\n",
       "    </tr>\n",
       "    <tr>\n",
       "      <th>2</th>\n",
       "      <td>4</td>\n",
       "      <td>[C#, JavaScript, SQL, TypeScript, Microsoft SQ...</td>\n",
       "    </tr>\n",
       "    <tr>\n",
       "      <th>3</th>\n",
       "      <td>5</td>\n",
       "      <td>[C#, HTML/CSS, JavaScript, SQL, Swift, TypeScr...</td>\n",
       "    </tr>\n",
       "    <tr>\n",
       "      <th>4</th>\n",
       "      <td>6</td>\n",
       "      <td>[C++, Lua, Homebrew]</td>\n",
       "    </tr>\n",
       "    <tr>\n",
       "      <th>...</th>\n",
       "      <td>...</td>\n",
       "      <td>...</td>\n",
       "    </tr>\n",
       "    <tr>\n",
       "      <th>68821</th>\n",
       "      <td>73264</td>\n",
       "      <td>[Bash/Shell, Dart, JavaScript, PHP, Python, SQ...</td>\n",
       "    </tr>\n",
       "    <tr>\n",
       "      <th>68822</th>\n",
       "      <td>73265</td>\n",
       "      <td>[Bash/Shell, HTML/CSS, JavaScript, Python, SQL...</td>\n",
       "    </tr>\n",
       "    <tr>\n",
       "      <th>68823</th>\n",
       "      <td>73266</td>\n",
       "      <td>[HTML/CSS, JavaScript, PHP, Python, SQL, Maria...</td>\n",
       "    </tr>\n",
       "    <tr>\n",
       "      <th>68824</th>\n",
       "      <td>73267</td>\n",
       "      <td>[C#, Delphi, VBA, Microsoft SQL Server, MongoD...</td>\n",
       "    </tr>\n",
       "    <tr>\n",
       "      <th>68825</th>\n",
       "      <td>73268</td>\n",
       "      <td>[C#, JavaScript, Lua, PowerShell, SQL, TypeScr...</td>\n",
       "    </tr>\n",
       "  </tbody>\n",
       "</table>\n",
       "<p>68826 rows × 2 columns</p>\n",
       "</div>"
      ],
      "text/plain": [
       "          id                                             skills\n",
       "0          2                           [JavaScript, TypeScript]\n",
       "1          3  [C#, C++, HTML/CSS, JavaScript, Python, Micros...\n",
       "2          4  [C#, JavaScript, SQL, TypeScript, Microsoft SQ...\n",
       "3          5  [C#, HTML/CSS, JavaScript, SQL, Swift, TypeScr...\n",
       "4          6                               [C++, Lua, Homebrew]\n",
       "...      ...                                                ...\n",
       "68821  73264  [Bash/Shell, Dart, JavaScript, PHP, Python, SQ...\n",
       "68822  73265  [Bash/Shell, HTML/CSS, JavaScript, Python, SQL...\n",
       "68823  73266  [HTML/CSS, JavaScript, PHP, Python, SQL, Maria...\n",
       "68824  73267  [C#, Delphi, VBA, Microsoft SQL Server, MongoD...\n",
       "68825  73268  [C#, JavaScript, Lua, PowerShell, SQL, TypeScr...\n",
       "\n",
       "[68826 rows x 2 columns]"
      ]
     },
     "execution_count": 13,
     "metadata": {},
     "output_type": "execute_result"
    }
   ],
   "source": [
    "# Check usual number of skills per row\n",
    "df_combined['NumSkills'] = df_combined['skills'].apply(len)\n",
    "max_num = df_combined['NumSkills'].max()\n",
    "mean_num = df_combined['NumSkills'].mean()\n",
    "median_num = df_combined['NumSkills'].median()\n",
    "print(\"Max:\", max_num, \"- Mean:\",mean_num, \"- Median:\", median_num)\n",
    "\n",
    "df_combined = df_combined[['id','skills']]\n",
    "df_combined"
   ]
  },
  {
   "attachments": {},
   "cell_type": "markdown",
   "metadata": {},
   "source": [
    "# Word Embedding relating skills that are seen together"
   ]
  },
  {
   "attachments": {},
   "cell_type": "markdown",
   "metadata": {},
   "source": [
    "## Word Embedding for Skills"
   ]
  },
  {
   "cell_type": "code",
   "execution_count": 14,
   "metadata": {},
   "outputs": [],
   "source": [
    "# Create the Word2Vec model\n",
    "sentences = df_combined['skills'].tolist()\n",
    "model = Word2Vec(sentences, min_count=1, vector_size=300, window=7, sg=1)\n"
   ]
  },
  {
   "cell_type": "code",
   "execution_count": 36,
   "metadata": {},
   "outputs": [],
   "source": [
    "model.save(\"model-w2v-people\")"
   ]
  },
  {
   "cell_type": "code",
   "execution_count": 32,
   "metadata": {},
   "outputs": [],
   "source": [
    "model = Word2Vec.load(\"model-w2vcombinedfiltered\")"
   ]
  },
  {
   "attachments": {},
   "cell_type": "markdown",
   "metadata": {},
   "source": [
    "# Check Word Embedding"
   ]
  },
  {
   "cell_type": "code",
   "execution_count": 15,
   "metadata": {},
   "outputs": [
    {
     "data": {
      "text/plain": [
       "0.6024587555067721"
      ]
     },
     "execution_count": 15,
     "metadata": {},
     "output_type": "execute_result"
    }
   ],
   "source": [
    "model.wv.wmdistance(['SQL'], ['Python', 'SQL'])\n"
   ]
  },
  {
   "cell_type": "code",
   "execution_count": 18,
   "metadata": {},
   "outputs": [
    {
     "data": {
      "text/plain": [
       "[('F#', 0.5623462200164795),\n",
       " ('COBOL', 0.4988788366317749),\n",
       " ('Crystal', 0.4701869487762451),\n",
       " ('Delphi', 0.46900737285614014),\n",
       " ('VBA', 0.4425012171268463),\n",
       " ('PowerShell', 0.43050915002822876),\n",
       " ('Fortran', 0.42202165722846985),\n",
       " ('Haskell', 0.3764938414096832),\n",
       " ('Blazor', 0.3576357662677765),\n",
       " ('Assembly', 0.35495758056640625),\n",
       " ('IBM DB2', 0.3505973517894745),\n",
       " ('Microsoft SQL Server', 0.3432474136352539),\n",
       " ('Lua', 0.34258902072906494),\n",
       " ('Perl', 0.34067055583000183),\n",
       " ('HTML/CSS', 0.33643677830696106),\n",
       " ('C++', 0.3307570815086365),\n",
       " ('LISP', 0.32829993963241577),\n",
       " ('MATLAB', 0.32751238346099854),\n",
       " ('Dart', 0.32698988914489746),\n",
       " ('ASP.NET', 0.3254520297050476)]"
      ]
     },
     "execution_count": 18,
     "metadata": {},
     "output_type": "execute_result"
    }
   ],
   "source": [
    "sims = model.wv.most_similar('C#', topn=20)\n",
    "sims\n",
    "\n",
    "#model.wv.similarity('SQL', 'Python')\n",
    "\n",
    "#df_combined['skills'].max()\n"
   ]
  }
 ],
 "metadata": {
  "kernelspec": {
   "display_name": "Python 3.8.8 ('base')",
   "language": "python",
   "name": "python3"
  },
  "language_info": {
   "codemirror_mode": {
    "name": "ipython",
    "version": 3
   },
   "file_extension": ".py",
   "mimetype": "text/x-python",
   "name": "python",
   "nbconvert_exporter": "python",
   "pygments_lexer": "ipython3",
   "version": "3.8.8"
  },
  "orig_nbformat": 4,
  "vscode": {
   "interpreter": {
    "hash": "ff5c35ef38b2b7e6ead3b71d60022e5b4c6fa7102a3de358d839e718f29a2955"
   }
  }
 },
 "nbformat": 4,
 "nbformat_minor": 2
}
