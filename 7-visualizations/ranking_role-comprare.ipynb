{
 "cells": [
  {
   "attachments": {},
   "cell_type": "markdown",
   "metadata": {},
   "source": [
    "# Build Visualizations for Rating Evaluation\n"
   ]
  },
  {
   "cell_type": "code",
   "execution_count": 18,
   "metadata": {},
   "outputs": [],
   "source": [
    "# Get role and person to compare\n",
    "role_id = 22\n",
    "#person_id = 5\n",
    "#person_id_1 = 11\n",
    "#person_id_2 = 11\n",
    "#person_id_3 = 10"
   ]
  },
  {
   "attachments": {},
   "cell_type": "markdown",
   "metadata": {},
   "source": [
    "## Import Libraries"
   ]
  },
  {
   "cell_type": "code",
   "execution_count": 19,
   "metadata": {},
   "outputs": [],
   "source": [
    "import pandas as pd\n",
    "import numpy as np"
   ]
  },
  {
   "attachments": {},
   "cell_type": "markdown",
   "metadata": {},
   "source": [
    "## Get Role Data"
   ]
  },
  {
   "cell_type": "code",
   "execution_count": 20,
   "metadata": {},
   "outputs": [
    {
     "name": "stdout",
     "output_type": "stream",
     "text": [
      "22\n",
      "['JavaScript', 'PostgreSQL', 'jQuery', 'React.js', 'React Native', 'Docker', 'Kubernetes']\n",
      "Associate\n"
     ]
    }
   ],
   "source": [
    "# Get the role from the collected data from the survey\n",
    "role = pd.read_csv(filepath_or_buffer=\"../2-data/survey_roles.csv\", sep=\",\", encoding=\"latin1\")\n",
    "role = role[role['id']==role_id]\n",
    "role_skills = role['skills'].values[0].split(';')\n",
    "role_experience = role['explevel'].values[0]\n",
    "\n",
    "print(role_id)\n",
    "print(role_skills)\n",
    "print(role_experience)"
   ]
  },
  {
   "cell_type": "code",
   "execution_count": 21,
   "metadata": {},
   "outputs": [
    {
     "data": {
      "text/html": [
       "<div>\n",
       "<style scoped>\n",
       "    .dataframe tbody tr th:only-of-type {\n",
       "        vertical-align: middle;\n",
       "    }\n",
       "\n",
       "    .dataframe tbody tr th {\n",
       "        vertical-align: top;\n",
       "    }\n",
       "\n",
       "    .dataframe thead th {\n",
       "        text-align: right;\n",
       "    }\n",
       "</style>\n",
       "<table border=\"1\" class=\"dataframe\">\n",
       "  <thead>\n",
       "    <tr style=\"text-align: right;\">\n",
       "      <th></th>\n",
       "      <th>id</th>\n",
       "      <th>skills</th>\n",
       "      <th>explevel</th>\n",
       "      <th>name</th>\n",
       "    </tr>\n",
       "  </thead>\n",
       "  <tbody>\n",
       "    <tr>\n",
       "      <th>6</th>\n",
       "      <td>22</td>\n",
       "      <td>[JavaScript, PostgreSQL, jQuery, React.js, Rea...</td>\n",
       "      <td>Associate</td>\n",
       "      <td>Software Engineer - Frontend</td>\n",
       "    </tr>\n",
       "  </tbody>\n",
       "</table>\n",
       "</div>"
      ],
      "text/plain": [
       "   id                                             skills   explevel  \\\n",
       "6  22  [JavaScript, PostgreSQL, jQuery, React.js, Rea...  Associate   \n",
       "\n",
       "                           name  \n",
       "6  Software Engineer - Frontend  "
      ]
     },
     "execution_count": 21,
     "metadata": {},
     "output_type": "execute_result"
    }
   ],
   "source": [
    "# Tokenize the skills\n",
    "role['skills'] = role['skills'].apply(lambda x: x.split(';'))\n",
    "#role['skills'] = role['skills'].apply(set)\n",
    "\n",
    "role"
   ]
  },
  {
   "cell_type": "code",
   "execution_count": 22,
   "metadata": {},
   "outputs": [
    {
     "data": {
      "text/html": [
       "<div>\n",
       "<style scoped>\n",
       "    .dataframe tbody tr th:only-of-type {\n",
       "        vertical-align: middle;\n",
       "    }\n",
       "\n",
       "    .dataframe tbody tr th {\n",
       "        vertical-align: top;\n",
       "    }\n",
       "\n",
       "    .dataframe thead th {\n",
       "        text-align: right;\n",
       "    }\n",
       "</style>\n",
       "<table border=\"1\" class=\"dataframe\">\n",
       "  <thead>\n",
       "    <tr style=\"text-align: right;\">\n",
       "      <th></th>\n",
       "      <th>id</th>\n",
       "      <th>skills</th>\n",
       "    </tr>\n",
       "  </thead>\n",
       "  <tbody>\n",
       "    <tr>\n",
       "      <th>6</th>\n",
       "      <td>22</td>\n",
       "      <td>JavaScript</td>\n",
       "    </tr>\n",
       "    <tr>\n",
       "      <th>6</th>\n",
       "      <td>22</td>\n",
       "      <td>PostgreSQL</td>\n",
       "    </tr>\n",
       "    <tr>\n",
       "      <th>6</th>\n",
       "      <td>22</td>\n",
       "      <td>jQuery</td>\n",
       "    </tr>\n",
       "    <tr>\n",
       "      <th>6</th>\n",
       "      <td>22</td>\n",
       "      <td>React.js</td>\n",
       "    </tr>\n",
       "    <tr>\n",
       "      <th>6</th>\n",
       "      <td>22</td>\n",
       "      <td>React Native</td>\n",
       "    </tr>\n",
       "    <tr>\n",
       "      <th>6</th>\n",
       "      <td>22</td>\n",
       "      <td>Docker</td>\n",
       "    </tr>\n",
       "    <tr>\n",
       "      <th>6</th>\n",
       "      <td>22</td>\n",
       "      <td>Kubernetes</td>\n",
       "    </tr>\n",
       "  </tbody>\n",
       "</table>\n",
       "</div>"
      ],
      "text/plain": [
       "   id        skills\n",
       "6  22    JavaScript\n",
       "6  22    PostgreSQL\n",
       "6  22        jQuery\n",
       "6  22      React.js\n",
       "6  22  React Native\n",
       "6  22        Docker\n",
       "6  22    Kubernetes"
      ]
     },
     "execution_count": 22,
     "metadata": {},
     "output_type": "execute_result"
    }
   ],
   "source": [
    "df_role_skills = role.explode('skills')[['id', 'skills']]\n",
    "df_role_skills['skills'] = df_role_skills['skills'].str.strip()\n",
    "#df_role_skills['source'] = 'role-skills'\n",
    "df_role_skills"
   ]
  },
  {
   "attachments": {},
   "cell_type": "markdown",
   "metadata": {},
   "source": [
    "# Get Employees Data"
   ]
  },
  {
   "cell_type": "code",
   "execution_count": 23,
   "metadata": {},
   "outputs": [
    {
     "data": {
      "text/html": [
       "<div>\n",
       "<style scoped>\n",
       "    .dataframe tbody tr th:only-of-type {\n",
       "        vertical-align: middle;\n",
       "    }\n",
       "\n",
       "    .dataframe tbody tr th {\n",
       "        vertical-align: top;\n",
       "    }\n",
       "\n",
       "    .dataframe thead th {\n",
       "        text-align: right;\n",
       "    }\n",
       "</style>\n",
       "<table border=\"1\" class=\"dataframe\">\n",
       "  <thead>\n",
       "    <tr style=\"text-align: right;\">\n",
       "      <th></th>\n",
       "      <th>id</th>\n",
       "      <th>skills</th>\n",
       "      <th>skills-want</th>\n",
       "    </tr>\n",
       "  </thead>\n",
       "  <tbody>\n",
       "    <tr>\n",
       "      <th>0</th>\n",
       "      <td>57614</td>\n",
       "      <td>[C#,  Microsoft SQL Server,  Microsoft Azure, ...</td>\n",
       "      <td>[C#,  Java,  Microsoft SQL Server,  AWS,  Reac...</td>\n",
       "    </tr>\n",
       "    <tr>\n",
       "      <th>1</th>\n",
       "      <td>55249</td>\n",
       "      <td>[C,  C++,  HTML/CSS,  Java]</td>\n",
       "      <td>[C,  C++,  HTML/CSS,  JavaScript,  Python,  Ty...</td>\n",
       "    </tr>\n",
       "    <tr>\n",
       "      <th>2</th>\n",
       "      <td>29895</td>\n",
       "      <td>[Bash/Shell,  C++,  HTML/CSS,  JavaScript,  Ko...</td>\n",
       "      <td>[JavaScript,  Kotlin,  Lua,  PowerShell,  Pyth...</td>\n",
       "    </tr>\n",
       "    <tr>\n",
       "      <th>3</th>\n",
       "      <td>10636</td>\n",
       "      <td>[Dart,  Go,  HTML/CSS,  Java,  JavaScript,  Py...</td>\n",
       "      <td>[Go,  HTML/CSS,  JavaScript,  Python,  SQL,  T...</td>\n",
       "    </tr>\n",
       "    <tr>\n",
       "      <th>4</th>\n",
       "      <td>64550</td>\n",
       "      <td>[Bash/Shell,  Groovy,  Java,  JavaScript,  Pow...</td>\n",
       "      <td>[Bash/Shell,  Dart,  PowerShell,  Python,  SQL...</td>\n",
       "    </tr>\n",
       "  </tbody>\n",
       "</table>\n",
       "</div>"
      ],
      "text/plain": [
       "      id                                             skills  \\\n",
       "0  57614  [C#,  Microsoft SQL Server,  Microsoft Azure, ...   \n",
       "1  55249                        [C,  C++,  HTML/CSS,  Java]   \n",
       "2  29895  [Bash/Shell,  C++,  HTML/CSS,  JavaScript,  Ko...   \n",
       "3  10636  [Dart,  Go,  HTML/CSS,  Java,  JavaScript,  Py...   \n",
       "4  64550  [Bash/Shell,  Groovy,  Java,  JavaScript,  Pow...   \n",
       "\n",
       "                                         skills-want  \n",
       "0  [C#,  Java,  Microsoft SQL Server,  AWS,  Reac...  \n",
       "1  [C,  C++,  HTML/CSS,  JavaScript,  Python,  Ty...  \n",
       "2  [JavaScript,  Kotlin,  Lua,  PowerShell,  Pyth...  \n",
       "3  [Go,  HTML/CSS,  JavaScript,  Python,  SQL,  T...  \n",
       "4  [Bash/Shell,  Dart,  PowerShell,  Python,  SQL...  "
      ]
     },
     "execution_count": 23,
     "metadata": {},
     "output_type": "execute_result"
    }
   ],
   "source": [
    "# Read the employees dataset - from the data entered in the survey\n",
    "df_people = pd.read_csv(filepath_or_buffer=f\"../6-results/ranking_role_{role_id}.csv\", sep=\",\", encoding=\"latin1\")\n",
    "\n",
    "\n",
    "#df_people = df_people[(df_people['id']==person_id_1) | (df_people['id']==person_id_2) | (df_people['id']==person_id_3)]\n",
    "\n",
    "# Tokenize the skills\n",
    "df_people['skills'] = df_people['skills'].apply(lambda x: x.replace(\"'\", \"\"))\n",
    "df_people['skills'] = df_people['skills'].apply(lambda x: x.replace(\"[\", \"\"))\n",
    "df_people['skills'] = df_people['skills'].apply(lambda x: x.replace(\"]\", \"\"))\n",
    "\n",
    "df_people['skills'] = df_people['skills'].apply(lambda x: x.split(','))\n",
    "#df_people['skills'] = df_people['skills'].apply(set)\n",
    "\n",
    "df_people['skills-want'] = df_people['skills-want'].apply(lambda x: x.replace(\"'\", \"\"))\n",
    "df_people['skills-want'] = df_people['skills-want'].apply(lambda x: x.replace(\"[\", \"\"))\n",
    "df_people['skills-want'] = df_people['skills-want'].apply(lambda x: x.replace(\"]\", \"\"))\n",
    "df_people['skills-want'] = df_people['skills-want'].apply(lambda x: x.split(','))\n",
    "#df_people['skills-want'] = df_people['skills-want'].apply(set)\n",
    "\n",
    "person_id_1 = df_people['id'][0]\n",
    "person_id_2 = df_people['id'][1]\n",
    "person_id_3 = df_people['id'][2]\n",
    "person_id_4 = df_people['id'][3]\n",
    "person_id_5 = df_people['id'][4]\n",
    "\n",
    "person_id_1_rank_model_1 = df_people['rank-model1'][0]\n",
    "person_id_2_rank_model_1 = df_people['rank-model1'][1]\n",
    "person_id_3_rank_model_1 = df_people['rank-model1'][2]\n",
    "person_id_4_rank_model_1 = df_people['rank-model1'][3]\n",
    "person_id_5_rank_model_1 = df_people['rank-model1'][4]\n",
    "\n",
    "person_id_1_rank_model_2 = df_people['rank-model2'][0]\n",
    "person_id_2_rank_model_2 = df_people['rank-model2'][1]\n",
    "person_id_3_rank_model_2 = df_people['rank-model2'][2]\n",
    "person_id_4_rank_model_2 = df_people['rank-model2'][3]\n",
    "person_id_5_rank_model_2 = df_people['rank-model2'][4]\n",
    "\n",
    "person_id_1_rank_model_3 = df_people['rank-model3'][0]\n",
    "person_id_2_rank_model_3 = df_people['rank-model3'][1]\n",
    "person_id_3_rank_model_3 = df_people['rank-model3'][2]\n",
    "person_id_4_rank_model_3 = df_people['rank-model3'][3]\n",
    "person_id_5_rank_model_3 = df_people['rank-model3'][4]\n",
    "# Get only required columns\n",
    "df_people = df_people[['id', 'skills', 'skills-want']]\n",
    "\n",
    "df_people\n"
   ]
  },
  {
   "cell_type": "code",
   "execution_count": 24,
   "metadata": {},
   "outputs": [
    {
     "data": {
      "text/html": [
       "<div>\n",
       "<style scoped>\n",
       "    .dataframe tbody tr th:only-of-type {\n",
       "        vertical-align: middle;\n",
       "    }\n",
       "\n",
       "    .dataframe tbody tr th {\n",
       "        vertical-align: top;\n",
       "    }\n",
       "\n",
       "    .dataframe thead th {\n",
       "        text-align: right;\n",
       "    }\n",
       "</style>\n",
       "<table border=\"1\" class=\"dataframe\">\n",
       "  <thead>\n",
       "    <tr style=\"text-align: right;\">\n",
       "      <th></th>\n",
       "      <th>id</th>\n",
       "      <th>skills</th>\n",
       "    </tr>\n",
       "  </thead>\n",
       "  <tbody>\n",
       "    <tr>\n",
       "      <th>0</th>\n",
       "      <td>57614</td>\n",
       "      <td>C#</td>\n",
       "    </tr>\n",
       "    <tr>\n",
       "      <th>0</th>\n",
       "      <td>57614</td>\n",
       "      <td>Microsoft SQL Server</td>\n",
       "    </tr>\n",
       "    <tr>\n",
       "      <th>0</th>\n",
       "      <td>57614</td>\n",
       "      <td>Microsoft Azure</td>\n",
       "    </tr>\n",
       "    <tr>\n",
       "      <th>0</th>\n",
       "      <td>57614</td>\n",
       "      <td>Angular</td>\n",
       "    </tr>\n",
       "    <tr>\n",
       "      <th>0</th>\n",
       "      <td>57614</td>\n",
       "      <td>Angular.js</td>\n",
       "    </tr>\n",
       "    <tr>\n",
       "      <th>...</th>\n",
       "      <td>...</td>\n",
       "      <td>...</td>\n",
       "    </tr>\n",
       "    <tr>\n",
       "      <th>4</th>\n",
       "      <td>64550</td>\n",
       "      <td>Torch/PyTorch</td>\n",
       "    </tr>\n",
       "    <tr>\n",
       "      <th>4</th>\n",
       "      <td>64550</td>\n",
       "      <td>Chef</td>\n",
       "    </tr>\n",
       "    <tr>\n",
       "      <th>4</th>\n",
       "      <td>64550</td>\n",
       "      <td>Docker</td>\n",
       "    </tr>\n",
       "    <tr>\n",
       "      <th>4</th>\n",
       "      <td>64550</td>\n",
       "      <td>Kubernetes</td>\n",
       "    </tr>\n",
       "    <tr>\n",
       "      <th>4</th>\n",
       "      <td>64550</td>\n",
       "      <td>Terraform</td>\n",
       "    </tr>\n",
       "  </tbody>\n",
       "</table>\n",
       "<p>114 rows × 2 columns</p>\n",
       "</div>"
      ],
      "text/plain": [
       "       id                skills\n",
       "0   57614                    C#\n",
       "0   57614  Microsoft SQL Server\n",
       "0   57614       Microsoft Azure\n",
       "0   57614               Angular\n",
       "0   57614            Angular.js\n",
       "..    ...                   ...\n",
       "4   64550         Torch/PyTorch\n",
       "4   64550                  Chef\n",
       "4   64550                Docker\n",
       "4   64550            Kubernetes\n",
       "4   64550             Terraform\n",
       "\n",
       "[114 rows x 2 columns]"
      ]
     },
     "execution_count": 24,
     "metadata": {},
     "output_type": "execute_result"
    }
   ],
   "source": [
    "df_person_skills = df_people.explode('skills')[['id', 'skills']]\n",
    "df_person_skills['skills'] = df_person_skills['skills'].str.strip()\n",
    "df_person_skills#['source'] = 'person-skills'\n"
   ]
  },
  {
   "cell_type": "code",
   "execution_count": 25,
   "metadata": {},
   "outputs": [
    {
     "data": {
      "text/html": [
       "<div>\n",
       "<style scoped>\n",
       "    .dataframe tbody tr th:only-of-type {\n",
       "        vertical-align: middle;\n",
       "    }\n",
       "\n",
       "    .dataframe tbody tr th {\n",
       "        vertical-align: top;\n",
       "    }\n",
       "\n",
       "    .dataframe thead th {\n",
       "        text-align: right;\n",
       "    }\n",
       "</style>\n",
       "<table border=\"1\" class=\"dataframe\">\n",
       "  <thead>\n",
       "    <tr style=\"text-align: right;\">\n",
       "      <th></th>\n",
       "      <th>id</th>\n",
       "      <th>skills</th>\n",
       "    </tr>\n",
       "  </thead>\n",
       "  <tbody>\n",
       "    <tr>\n",
       "      <th>0</th>\n",
       "      <td>57614</td>\n",
       "      <td>C#</td>\n",
       "    </tr>\n",
       "    <tr>\n",
       "      <th>0</th>\n",
       "      <td>57614</td>\n",
       "      <td>Java</td>\n",
       "    </tr>\n",
       "    <tr>\n",
       "      <th>0</th>\n",
       "      <td>57614</td>\n",
       "      <td>Microsoft SQL Server</td>\n",
       "    </tr>\n",
       "    <tr>\n",
       "      <th>0</th>\n",
       "      <td>57614</td>\n",
       "      <td>AWS</td>\n",
       "    </tr>\n",
       "    <tr>\n",
       "      <th>0</th>\n",
       "      <td>57614</td>\n",
       "      <td>React.js</td>\n",
       "    </tr>\n",
       "    <tr>\n",
       "      <th>...</th>\n",
       "      <td>...</td>\n",
       "      <td>...</td>\n",
       "    </tr>\n",
       "    <tr>\n",
       "      <th>4</th>\n",
       "      <td>64550</td>\n",
       "      <td>Hugging Face Transformers</td>\n",
       "    </tr>\n",
       "    <tr>\n",
       "      <th>4</th>\n",
       "      <td>64550</td>\n",
       "      <td>Ansible</td>\n",
       "    </tr>\n",
       "    <tr>\n",
       "      <th>4</th>\n",
       "      <td>64550</td>\n",
       "      <td>Docker</td>\n",
       "    </tr>\n",
       "    <tr>\n",
       "      <th>4</th>\n",
       "      <td>64550</td>\n",
       "      <td>Kubernetes</td>\n",
       "    </tr>\n",
       "    <tr>\n",
       "      <th>4</th>\n",
       "      <td>64550</td>\n",
       "      <td>Terraform</td>\n",
       "    </tr>\n",
       "  </tbody>\n",
       "</table>\n",
       "<p>83 rows × 2 columns</p>\n",
       "</div>"
      ],
      "text/plain": [
       "       id                     skills\n",
       "0   57614                         C#\n",
       "0   57614                       Java\n",
       "0   57614       Microsoft SQL Server\n",
       "0   57614                        AWS\n",
       "0   57614                   React.js\n",
       "..    ...                        ...\n",
       "4   64550  Hugging Face Transformers\n",
       "4   64550                    Ansible\n",
       "4   64550                     Docker\n",
       "4   64550                 Kubernetes\n",
       "4   64550                  Terraform\n",
       "\n",
       "[83 rows x 2 columns]"
      ]
     },
     "execution_count": 25,
     "metadata": {},
     "output_type": "execute_result"
    }
   ],
   "source": [
    "df_person_interests = df_people.explode('skills-want')[['id', 'skills-want']]\n",
    "df_person_interests['skills'] = df_person_interests['skills-want']\n",
    "#df_person_interests['source'] = 'person-interests'\n",
    "#df_person_interests = df_person_interests[['id', 'skills', 'source']]\n",
    "df_person_interests = df_person_interests[['id', 'skills']]\n",
    "df_person_interests['skills'] = df_person_interests['skills'].str.strip()\n",
    "df_person_interests\n"
   ]
  },
  {
   "attachments": {},
   "cell_type": "markdown",
   "metadata": {},
   "source": [
    "# Compute Number for each combination"
   ]
  },
  {
   "cell_type": "code",
   "execution_count": 26,
   "metadata": {},
   "outputs": [],
   "source": [
    "from sqlalchemy import create_engine\n",
    "\n",
    "def create_table(name, df):\n",
    "    # Create a connection to the database\n",
    "    engine = create_engine('sqlite:///database.db')\n",
    "\n",
    "    # Load the DataFrame into a table\n",
    "    df.to_sql(f'{name}', engine, if_exists='replace', index=False)\n",
    "\n",
    "    # Close the database connection\n",
    "    engine.dispose()\n",
    "\n",
    "create_table('person_skills', df_person_skills)\n",
    "create_table('person_interests', df_person_interests)\n",
    "create_table('role_skills', df_role_skills)\n"
   ]
  },
  {
   "cell_type": "code",
   "execution_count": 27,
   "metadata": {},
   "outputs": [],
   "source": [
    "def query_database(sql):\n",
    "    # Create a connection to the database\n",
    "    engine = create_engine('sqlite:///database.db')\n",
    "\n",
    "    # Query the data\n",
    "    query = sql\n",
    "    result = engine.execute(query)\n",
    "\n",
    "    # Fetch all the rows from the result object\n",
    "    rows = result.fetchall()\n",
    "\n",
    "    # Convert the rows to a DataFrame\n",
    "    df_result = pd.DataFrame(rows, columns=result.keys())\n",
    "\n",
    "    # Close the database connection\n",
    "    engine.dispose()\n",
    "\n",
    "    return df_result\n"
   ]
  },
  {
   "cell_type": "code",
   "execution_count": 28,
   "metadata": {},
   "outputs": [
    {
     "data": {
      "text/plain": [
       "7"
      ]
     },
     "execution_count": 28,
     "metadata": {},
     "output_type": "execute_result"
    }
   ],
   "source": [
    "# Get total number of skills in the role\n",
    "result = query_database(\"\"\"\n",
    "    select skills from role_skills\n",
    "\"\"\")\n",
    "result\n",
    "all_skills = result.count()[0]\n",
    "all_skills"
   ]
  },
  {
   "cell_type": "code",
   "execution_count": 29,
   "metadata": {},
   "outputs": [],
   "source": [
    "def compute_matched_skills_only(person):\n",
    "    # Get skills only\n",
    "    result = query_database(f\"\"\"\n",
    "        select rs.skills from role_skills rs, person_skills ps \n",
    "        where rs.skills = ps.skills and ps.id = {person} and rs.skills not in (\n",
    "            select skills from person_interests where id = {person});\n",
    "        \"\"\")\n",
    "    result\n",
    "    matched_skills_only = result.count()[0]\n",
    "    return matched_skills_only\n",
    "\n",
    "\n",
    "\n",
    "def compute_matched_skills_and_interests(person):\n",
    "    \n",
    "    # Get skills and interests\n",
    "    result = query_database(f\"\"\"\n",
    "        select rs.skills from role_skills rs, person_skills ps where rs.skills = ps.skills and ps.id = {person} and rs.skills in (select skills from person_interests where id = {person});\n",
    "        \"\"\")\n",
    "    result\n",
    "    matched_skills_and_interests = result.count()[0]\n",
    "    return matched_skills_and_interests\n",
    "\n",
    "\n",
    "def compute_matched_interests_only(person):\n",
    "    # Get interests only\n",
    "    result = query_database(f\"\"\"\n",
    "        select rs.skills from role_skills rs, person_interests pi where rs.skills = pi.skills and pi.id = {person} and rs.skills not in (select skills from person_skills where id = {person});\n",
    "        \"\"\")\n",
    "    result\n",
    "    matched_interests_only = result.count()[0]\n",
    "    return matched_interests_only\n",
    "\n",
    "\n",
    "\n",
    "def compute_skills_not_matched(person):\n",
    "    # Get skills not matched on neither skills nor interests\n",
    "    result = query_database(f\"\"\"\n",
    "        select rs.skills from role_skills rs where rs.skills not in (select skills from person_skills where id = {person}) and rs.skills not in (select skills from person_interests where id = {person}) ;\n",
    "        \"\"\")\n",
    "    result\n",
    "    skills_not_matched = result.count()[0]\n",
    "    return skills_not_matched\n",
    "\n",
    "\n"
   ]
  },
  {
   "cell_type": "code",
   "execution_count": 30,
   "metadata": {},
   "outputs": [],
   "source": [
    "\n",
    "#print(compute_matched_skills_only(person_id_1))\n",
    "#print(compute_matched_skills_and_interests(person_id_1))\n",
    "#print(compute_matched_interests_only(person_id_1))\n",
    "#print(compute_skills_not_matched(person_id_1))"
   ]
  },
  {
   "attachments": {},
   "cell_type": "markdown",
   "metadata": {},
   "source": [
    "# See Results"
   ]
  },
  {
   "cell_type": "code",
   "execution_count": 31,
   "metadata": {},
   "outputs": [],
   "source": [
    "#print(\"Total Number of Skills:\", all_skills)\n",
    "#print(\"Skills only:\", matched_skills_only)\n",
    "#print(\"Skills and Interests:\", matched_skills_and_interests)\n",
    "#print(\"Interests only:\", matched_interests_only)\n",
    "#print(\"Skills not Matched:\", skills_not_matched)\n"
   ]
  },
  {
   "cell_type": "code",
   "execution_count": 32,
   "metadata": {},
   "outputs": [],
   "source": [
    "import matplotlib.pyplot as plt\n",
    "\n",
    "# Create a sample DataFrame\n",
    "data = {\n",
    "    'Category': [f'{person_id_1}', f'{person_id_2}', f'{person_id_3}', f'{person_id_4}', f'{person_id_5}'],\n",
    "    'Matched by Skills only': [compute_matched_skills_only(person_id_1), compute_matched_skills_only(person_id_2), compute_matched_skills_only(person_id_3), compute_matched_skills_only(person_id_4), compute_matched_skills_only(person_id_5)],\n",
    "    'Matched by Skills and Interests': [compute_matched_skills_and_interests(person_id_1), compute_matched_skills_and_interests(person_id_2), compute_matched_skills_and_interests(person_id_3), compute_matched_skills_and_interests(person_id_4), compute_matched_skills_and_interests(person_id_5)],\n",
    "    'Matched by Interests only': [compute_matched_interests_only(person_id_1), compute_matched_interests_only(person_id_2), compute_matched_interests_only(person_id_3), compute_matched_interests_only(person_id_4), compute_matched_interests_only(person_id_5)],\n",
    "    'Skills not Matched': [compute_skills_not_matched(person_id_1), compute_skills_not_matched(person_id_2), compute_skills_not_matched(person_id_3), compute_skills_not_matched(person_id_4), compute_skills_not_matched(person_id_5)],\n",
    "    'rank-model1': [person_id_1_rank_model_1, person_id_2_rank_model_1, person_id_3_rank_model_1, person_id_4_rank_model_1, person_id_5_rank_model_1],\n",
    "    'rank-model2': [person_id_1_rank_model_2, person_id_2_rank_model_2, person_id_3_rank_model_2, person_id_4_rank_model_2, person_id_5_rank_model_2],\n",
    "    'rank-model3': [person_id_1_rank_model_3, person_id_2_rank_model_3, person_id_3_rank_model_3, person_id_4_rank_model_3, person_id_5_rank_model_3],\n",
    "}\n",
    "df = pd.DataFrame(data)\n",
    "\n"
   ]
  },
  {
   "cell_type": "code",
   "execution_count": 33,
   "metadata": {},
   "outputs": [],
   "source": [
    "\n",
    "def show_chart(df, model, legend):\n",
    "    # Calculate the percentage for each value in each category\n",
    "    total = df[['Matched by Skills only', 'Matched by Skills and Interests', 'Matched by Interests only', 'Skills not Matched']].sum(axis=1)\n",
    "    df_percent = df[['Matched by Skills only', 'Matched by Skills and Interests', 'Matched by Interests only', 'Skills not Matched']].div(total, axis=0) * 100\n",
    "\n",
    "    # Plot the 100% stacked bar chart\n",
    "    fig, ax = plt.subplots(figsize=(3.5, 6))\n",
    "    categories = df['Category']\n",
    "    bar_width = 0.5\n",
    "\n",
    "    bottom = [0] * len(categories)\n",
    "    colors = ['#7eb0d5', '#b2e061', '#bd7ebe', '#ffb55a']\n",
    "\n",
    "    for i, col in enumerate(df_percent.columns):\n",
    "        values = df_percent[col]\n",
    "        ax.bar(categories, values, bar_width, bottom=bottom, color=colors[i], label=col)\n",
    "        bottom += values\n",
    "\n",
    "    ax.set_ylabel('% of Skill Coverage')\n",
    "    ax.set_xlabel(f'Person ID')\n",
    "    ax.set_title(f'Role {role_id} - Model {model}')\n",
    "    \n",
    "    if legend:\n",
    "        ax.legend(loc='center left', bbox_to_anchor=(1, 0.5))\n",
    "    \n",
    "    # Remove the top and right spines\n",
    "    ax.spines['top'].set_visible(False)\n",
    "    ax.spines['right'].set_visible(False)\n",
    "\n",
    "    # Remove the left and bottom spines\n",
    "    ax.spines['left'].set_visible(False)\n",
    "    ax.spines['bottom'].set_visible(False)\n",
    "\n",
    "    scale_values = [10, 20, 30, 40, 50, 60, 70, 80, 90, 100]  # Specify the values for horizontal lines\n",
    "    for value in scale_values:\n",
    "        ax.axhline(value, color='gray', linestyle='--', linewidth=0.5)\n",
    "\n",
    "    plt.show()"
   ]
  },
  {
   "cell_type": "code",
   "execution_count": 34,
   "metadata": {},
   "outputs": [
    {
     "data": {
      "image/png": "[encoded data removed]",
      "text/plain": [
       "<Figure size 252x432 with 1 Axes>"
      ]
     },
     "metadata": {
      "needs_background": "light"
     },
     "output_type": "display_data"
    },
    {
     "data": {
      "image/png": "[encoded data removed]",
      "text/plain": [
       "<Figure size 252x432 with 1 Axes>"
      ]
     },
     "metadata": {
      "needs_background": "light"
     },
     "output_type": "display_data"
    },
    {
     "data": {
      "image/png": "[encoded data removed]",
      "text/plain": [
       "<Figure size 252x432 with 1 Axes>"
      ]
     },
     "metadata": {
      "needs_background": "light"
     },
     "output_type": "display_data"
    }
   ],
   "source": [
    "show_chart(df.sort_values(by=['rank-model1'], ascending=True), 1, False)\n",
    "show_chart(df.sort_values(by=['rank-model2'], ascending=True), 2, False)\n",
    "show_chart(df.sort_values(by=['rank-model3'], ascending=True), 3, True)\n",
    "\n"
   ]
  },
  {
   "cell_type": "code",
   "execution_count": 437,
   "metadata": {},
   "outputs": [
    {
     "data": {
      "text/plain": [
       "<Figure size 432x288 with 0 Axes>"
      ]
     },
     "metadata": {},
     "output_type": "display_data"
    }
   ],
   "source": [
    "# Save chart\n",
    "#plt.savefig(f'rating_role_{role_id}.png', bbox_inches='tight')"
   ]
  }
 ],
 "metadata": {
  "kernelspec": {
   "display_name": "Python 3.8.8 ('base')",
   "language": "python",
   "name": "python3"
  },
  "language_info": {
   "codemirror_mode": {
    "name": "ipython",
    "version": 3
   },
   "file_extension": ".py",
   "mimetype": "text/x-python",
   "name": "python",
   "nbconvert_exporter": "python",
   "pygments_lexer": "ipython3",
   "version": "3.8.8"
  },
  "orig_nbformat": 4,
  "vscode": {
   "interpreter": {
    "hash": "ff5c35ef38b2b7e6ead3b71d60022e5b4c6fa7102a3de358d839e718f29a2955"
   }
  }
 },
 "nbformat": 4,
 "nbformat_minor": 2
}
