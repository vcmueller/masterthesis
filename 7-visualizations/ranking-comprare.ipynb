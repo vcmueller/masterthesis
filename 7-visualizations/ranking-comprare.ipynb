{
 "cells": [
  {
   "attachments": {},
   "cell_type": "markdown",
   "metadata": {},
   "source": [
    "# Build Visualizations for Rating Evaluation\n"
   ]
  },
  {
   "cell_type": "code",
   "execution_count": 41,
   "metadata": {},
   "outputs": [],
   "source": [
    "# Get role and person to compare\n",
    "role_id = 11\n",
    "#person_id = 5\n",
    "#person_id_1 = 11\n",
    "#person_id_2 = 11\n",
    "#person_id_3 = 10"
   ]
  },
  {
   "attachments": {},
   "cell_type": "markdown",
   "metadata": {},
   "source": [
    "## Import Libraries"
   ]
  },
  {
   "cell_type": "code",
   "execution_count": 42,
   "metadata": {},
   "outputs": [],
   "source": [
    "import pandas as pd\n",
    "import numpy as np"
   ]
  },
  {
   "attachments": {},
   "cell_type": "markdown",
   "metadata": {},
   "source": [
    "## Get Role Data"
   ]
  },
  {
   "cell_type": "code",
   "execution_count": 43,
   "metadata": {},
   "outputs": [
    {
     "name": "stdout",
     "output_type": "stream",
     "text": [
      "11\n",
      "['Bash/Shell', 'PowerShell', 'Python', 'R', 'SQL', 'Microsoft SQL Server', 'MySQL', 'AWS', 'Microsoft Azure', '.NET', 'Apache Spark', 'Pandas']\n",
      "Senior\n"
     ]
    }
   ],
   "source": [
    "# Get the role from the collected data from the survey\n",
    "role = pd.read_csv(filepath_or_buffer=\"../2-data/survey_roles.csv\", sep=\",\", encoding=\"latin1\")\n",
    "role = role[role['id']==role_id]\n",
    "role_skills = role['skills'].values[0].split(';')\n",
    "role_experience = role['explevel'].values[0]\n",
    "\n",
    "print(role_id)\n",
    "print(role_skills)\n",
    "print(role_experience)"
   ]
  },
  {
   "cell_type": "code",
   "execution_count": 44,
   "metadata": {},
   "outputs": [
    {
     "data": {
      "text/html": [
       "<div>\n",
       "<style scoped>\n",
       "    .dataframe tbody tr th:only-of-type {\n",
       "        vertical-align: middle;\n",
       "    }\n",
       "\n",
       "    .dataframe tbody tr th {\n",
       "        vertical-align: top;\n",
       "    }\n",
       "\n",
       "    .dataframe thead th {\n",
       "        text-align: right;\n",
       "    }\n",
       "</style>\n",
       "<table border=\"1\" class=\"dataframe\">\n",
       "  <thead>\n",
       "    <tr style=\"text-align: right;\">\n",
       "      <th></th>\n",
       "      <th>id</th>\n",
       "      <th>skills</th>\n",
       "      <th>explevel</th>\n",
       "      <th>name</th>\n",
       "    </tr>\n",
       "  </thead>\n",
       "  <tbody>\n",
       "    <tr>\n",
       "      <th>0</th>\n",
       "      <td>11</td>\n",
       "      <td>[Bash/Shell, PowerShell, Python, R, SQL, Micro...</td>\n",
       "      <td>Senior</td>\n",
       "      <td>Data Engineer</td>\n",
       "    </tr>\n",
       "  </tbody>\n",
       "</table>\n",
       "</div>"
      ],
      "text/plain": [
       "   id                                             skills explevel  \\\n",
       "0  11  [Bash/Shell, PowerShell, Python, R, SQL, Micro...   Senior   \n",
       "\n",
       "            name  \n",
       "0  Data Engineer  "
      ]
     },
     "execution_count": 44,
     "metadata": {},
     "output_type": "execute_result"
    }
   ],
   "source": [
    "# Tokenize the skills\n",
    "role['skills'] = role['skills'].apply(lambda x: x.split(';'))\n",
    "#role['skills'] = role['skills'].apply(set)\n",
    "\n",
    "role"
   ]
  },
  {
   "cell_type": "code",
   "execution_count": 45,
   "metadata": {},
   "outputs": [
    {
     "data": {
      "text/html": [
       "<div>\n",
       "<style scoped>\n",
       "    .dataframe tbody tr th:only-of-type {\n",
       "        vertical-align: middle;\n",
       "    }\n",
       "\n",
       "    .dataframe tbody tr th {\n",
       "        vertical-align: top;\n",
       "    }\n",
       "\n",
       "    .dataframe thead th {\n",
       "        text-align: right;\n",
       "    }\n",
       "</style>\n",
       "<table border=\"1\" class=\"dataframe\">\n",
       "  <thead>\n",
       "    <tr style=\"text-align: right;\">\n",
       "      <th></th>\n",
       "      <th>id</th>\n",
       "      <th>skills</th>\n",
       "    </tr>\n",
       "  </thead>\n",
       "  <tbody>\n",
       "    <tr>\n",
       "      <th>0</th>\n",
       "      <td>11</td>\n",
       "      <td>Bash/Shell</td>\n",
       "    </tr>\n",
       "    <tr>\n",
       "      <th>0</th>\n",
       "      <td>11</td>\n",
       "      <td>PowerShell</td>\n",
       "    </tr>\n",
       "    <tr>\n",
       "      <th>0</th>\n",
       "      <td>11</td>\n",
       "      <td>Python</td>\n",
       "    </tr>\n",
       "    <tr>\n",
       "      <th>0</th>\n",
       "      <td>11</td>\n",
       "      <td>R</td>\n",
       "    </tr>\n",
       "    <tr>\n",
       "      <th>0</th>\n",
       "      <td>11</td>\n",
       "      <td>SQL</td>\n",
       "    </tr>\n",
       "    <tr>\n",
       "      <th>0</th>\n",
       "      <td>11</td>\n",
       "      <td>Microsoft SQL Server</td>\n",
       "    </tr>\n",
       "    <tr>\n",
       "      <th>0</th>\n",
       "      <td>11</td>\n",
       "      <td>MySQL</td>\n",
       "    </tr>\n",
       "    <tr>\n",
       "      <th>0</th>\n",
       "      <td>11</td>\n",
       "      <td>AWS</td>\n",
       "    </tr>\n",
       "    <tr>\n",
       "      <th>0</th>\n",
       "      <td>11</td>\n",
       "      <td>Microsoft Azure</td>\n",
       "    </tr>\n",
       "    <tr>\n",
       "      <th>0</th>\n",
       "      <td>11</td>\n",
       "      <td>.NET</td>\n",
       "    </tr>\n",
       "    <tr>\n",
       "      <th>0</th>\n",
       "      <td>11</td>\n",
       "      <td>Apache Spark</td>\n",
       "    </tr>\n",
       "    <tr>\n",
       "      <th>0</th>\n",
       "      <td>11</td>\n",
       "      <td>Pandas</td>\n",
       "    </tr>\n",
       "  </tbody>\n",
       "</table>\n",
       "</div>"
      ],
      "text/plain": [
       "   id                skills\n",
       "0  11            Bash/Shell\n",
       "0  11            PowerShell\n",
       "0  11                Python\n",
       "0  11                     R\n",
       "0  11                   SQL\n",
       "0  11  Microsoft SQL Server\n",
       "0  11                 MySQL\n",
       "0  11                   AWS\n",
       "0  11       Microsoft Azure\n",
       "0  11                  .NET\n",
       "0  11          Apache Spark\n",
       "0  11                Pandas"
      ]
     },
     "execution_count": 45,
     "metadata": {},
     "output_type": "execute_result"
    }
   ],
   "source": [
    "df_role_skills = role.explode('skills')[['id', 'skills']]\n",
    "df_role_skills['skills'] = df_role_skills['skills'].str.strip()\n",
    "#df_role_skills['source'] = 'role-skills'\n",
    "df_role_skills"
   ]
  },
  {
   "attachments": {},
   "cell_type": "markdown",
   "metadata": {},
   "source": [
    "# Get Employees Data"
   ]
  },
  {
   "cell_type": "code",
   "execution_count": 46,
   "metadata": {},
   "outputs": [
    {
     "data": {
      "text/html": [
       "<div>\n",
       "<style scoped>\n",
       "    .dataframe tbody tr th:only-of-type {\n",
       "        vertical-align: middle;\n",
       "    }\n",
       "\n",
       "    .dataframe tbody tr th {\n",
       "        vertical-align: top;\n",
       "    }\n",
       "\n",
       "    .dataframe thead th {\n",
       "        text-align: right;\n",
       "    }\n",
       "</style>\n",
       "<table border=\"1\" class=\"dataframe\">\n",
       "  <thead>\n",
       "    <tr style=\"text-align: right;\">\n",
       "      <th></th>\n",
       "      <th>id</th>\n",
       "      <th>skills</th>\n",
       "      <th>skills-want</th>\n",
       "    </tr>\n",
       "  </thead>\n",
       "  <tbody>\n",
       "    <tr>\n",
       "      <th>0</th>\n",
       "      <td>64361</td>\n",
       "      <td>[Bash/Shell,  Go,  Groovy,  HTML/CSS,  Java,  ...</td>\n",
       "      <td>[Bash/Shell,  Groovy,  HTML/CSS,  Java,  Pytho...</td>\n",
       "    </tr>\n",
       "    <tr>\n",
       "      <th>1</th>\n",
       "      <td>12650</td>\n",
       "      <td>[Dart,  JavaScript,  Swift,  SQLite,  Heroku, ...</td>\n",
       "      <td>[Swift,  ,  Heroku,  Next.js,  React.js]</td>\n",
       "    </tr>\n",
       "    <tr>\n",
       "      <th>2</th>\n",
       "      <td>69034</td>\n",
       "      <td>[HTML/CSS,  JavaScript,  SQL,  TypeScript,  Po...</td>\n",
       "      <td>[Elixir,  Rust,  PostgreSQL,  SQLite,  Digital...</td>\n",
       "    </tr>\n",
       "    <tr>\n",
       "      <th>3</th>\n",
       "      <td>3002</td>\n",
       "      <td>[Bash/Shell,  C,  C#,  Go,  JavaScript,  Power...</td>\n",
       "      <td>[Bash/Shell,  C,  C#,  C++,  Python,  Rust,  S...</td>\n",
       "    </tr>\n",
       "    <tr>\n",
       "      <th>4</th>\n",
       "      <td>48078</td>\n",
       "      <td>[HTML/CSS,  Java,  JavaScript,  Kotlin,  Pytho...</td>\n",
       "      <td>[HTML/CSS,  Java,  JavaScript,  Python,  SQL, ...</td>\n",
       "    </tr>\n",
       "  </tbody>\n",
       "</table>\n",
       "</div>"
      ],
      "text/plain": [
       "      id                                             skills  \\\n",
       "0  64361  [Bash/Shell,  Go,  Groovy,  HTML/CSS,  Java,  ...   \n",
       "1  12650  [Dart,  JavaScript,  Swift,  SQLite,  Heroku, ...   \n",
       "2  69034  [HTML/CSS,  JavaScript,  SQL,  TypeScript,  Po...   \n",
       "3   3002  [Bash/Shell,  C,  C#,  Go,  JavaScript,  Power...   \n",
       "4  48078  [HTML/CSS,  Java,  JavaScript,  Kotlin,  Pytho...   \n",
       "\n",
       "                                         skills-want  \n",
       "0  [Bash/Shell,  Groovy,  HTML/CSS,  Java,  Pytho...  \n",
       "1           [Swift,  ,  Heroku,  Next.js,  React.js]  \n",
       "2  [Elixir,  Rust,  PostgreSQL,  SQLite,  Digital...  \n",
       "3  [Bash/Shell,  C,  C#,  C++,  Python,  Rust,  S...  \n",
       "4  [HTML/CSS,  Java,  JavaScript,  Python,  SQL, ...  "
      ]
     },
     "execution_count": 46,
     "metadata": {},
     "output_type": "execute_result"
    }
   ],
   "source": [
    "# Read the employees dataset - from the data entered in the survey\n",
    "df_people = pd.read_csv(filepath_or_buffer=f\"../6-results/ranking_role_{role_id}.csv\", sep=\",\", encoding=\"latin1\")\n",
    "\n",
    "# Get only required columns\n",
    "df_people = df_people[['id', 'skills', 'skills-want']]\n",
    "#df_people = df_people[(df_people['id']==person_id_1) | (df_people['id']==person_id_2) | (df_people['id']==person_id_3)]\n",
    "\n",
    "# Tokenize the skills\n",
    "df_people['skills'] = df_people['skills'].apply(lambda x: x.replace(\"'\", \"\"))\n",
    "df_people['skills'] = df_people['skills'].apply(lambda x: x.replace(\"[\", \"\"))\n",
    "df_people['skills'] = df_people['skills'].apply(lambda x: x.replace(\"]\", \"\"))\n",
    "\n",
    "df_people['skills'] = df_people['skills'].apply(lambda x: x.split(','))\n",
    "#df_people['skills'] = df_people['skills'].apply(set)\n",
    "\n",
    "df_people['skills-want'] = df_people['skills-want'].apply(lambda x: x.replace(\"'\", \"\"))\n",
    "df_people['skills-want'] = df_people['skills-want'].apply(lambda x: x.replace(\"[\", \"\"))\n",
    "df_people['skills-want'] = df_people['skills-want'].apply(lambda x: x.replace(\"]\", \"\"))\n",
    "df_people['skills-want'] = df_people['skills-want'].apply(lambda x: x.split(','))\n",
    "#df_people['skills-want'] = df_people['skills-want'].apply(set)\n",
    "\n",
    "person_id_1 = df_people['id'][0]\n",
    "person_id_2 = df_people['id'][1]\n",
    "person_id_3 = df_people['id'][2]\n",
    "person_id_4 = df_people['id'][3]\n",
    "person_id_5 = df_people['id'][4]\n",
    "\n",
    "df_people\n",
    "\n",
    "\n"
   ]
  },
  {
   "cell_type": "code",
   "execution_count": 47,
   "metadata": {},
   "outputs": [
    {
     "data": {
      "text/html": [
       "<div>\n",
       "<style scoped>\n",
       "    .dataframe tbody tr th:only-of-type {\n",
       "        vertical-align: middle;\n",
       "    }\n",
       "\n",
       "    .dataframe tbody tr th {\n",
       "        vertical-align: top;\n",
       "    }\n",
       "\n",
       "    .dataframe thead th {\n",
       "        text-align: right;\n",
       "    }\n",
       "</style>\n",
       "<table border=\"1\" class=\"dataframe\">\n",
       "  <thead>\n",
       "    <tr style=\"text-align: right;\">\n",
       "      <th></th>\n",
       "      <th>id</th>\n",
       "      <th>skills</th>\n",
       "    </tr>\n",
       "  </thead>\n",
       "  <tbody>\n",
       "    <tr>\n",
       "      <th>0</th>\n",
       "      <td>64361</td>\n",
       "      <td>Bash/Shell</td>\n",
       "    </tr>\n",
       "    <tr>\n",
       "      <th>0</th>\n",
       "      <td>64361</td>\n",
       "      <td>Go</td>\n",
       "    </tr>\n",
       "    <tr>\n",
       "      <th>0</th>\n",
       "      <td>64361</td>\n",
       "      <td>Groovy</td>\n",
       "    </tr>\n",
       "    <tr>\n",
       "      <th>0</th>\n",
       "      <td>64361</td>\n",
       "      <td>HTML/CSS</td>\n",
       "    </tr>\n",
       "    <tr>\n",
       "      <th>0</th>\n",
       "      <td>64361</td>\n",
       "      <td>Java</td>\n",
       "    </tr>\n",
       "    <tr>\n",
       "      <th>...</th>\n",
       "      <td>...</td>\n",
       "      <td>...</td>\n",
       "    </tr>\n",
       "    <tr>\n",
       "      <th>4</th>\n",
       "      <td>48078</td>\n",
       "      <td>Node.js</td>\n",
       "    </tr>\n",
       "    <tr>\n",
       "      <th>4</th>\n",
       "      <td>48078</td>\n",
       "      <td>Vue.js</td>\n",
       "    </tr>\n",
       "    <tr>\n",
       "      <th>4</th>\n",
       "      <td>48078</td>\n",
       "      <td>Electron</td>\n",
       "    </tr>\n",
       "    <tr>\n",
       "      <th>4</th>\n",
       "      <td>48078</td>\n",
       "      <td>Spring</td>\n",
       "    </tr>\n",
       "    <tr>\n",
       "      <th>4</th>\n",
       "      <td>48078</td>\n",
       "      <td>npm</td>\n",
       "    </tr>\n",
       "  </tbody>\n",
       "</table>\n",
       "<p>101 rows × 2 columns</p>\n",
       "</div>"
      ],
      "text/plain": [
       "       id      skills\n",
       "0   64361  Bash/Shell\n",
       "0   64361          Go\n",
       "0   64361      Groovy\n",
       "0   64361    HTML/CSS\n",
       "0   64361        Java\n",
       "..    ...         ...\n",
       "4   48078     Node.js\n",
       "4   48078      Vue.js\n",
       "4   48078    Electron\n",
       "4   48078      Spring\n",
       "4   48078         npm\n",
       "\n",
       "[101 rows x 2 columns]"
      ]
     },
     "execution_count": 47,
     "metadata": {},
     "output_type": "execute_result"
    }
   ],
   "source": [
    "df_person_skills = df_people.explode('skills')[['id', 'skills']]\n",
    "df_person_skills['skills'] = df_person_skills['skills'].str.strip()\n",
    "df_person_skills#['source'] = 'person-skills'\n"
   ]
  },
  {
   "cell_type": "code",
   "execution_count": 48,
   "metadata": {},
   "outputs": [
    {
     "data": {
      "text/html": [
       "<div>\n",
       "<style scoped>\n",
       "    .dataframe tbody tr th:only-of-type {\n",
       "        vertical-align: middle;\n",
       "    }\n",
       "\n",
       "    .dataframe tbody tr th {\n",
       "        vertical-align: top;\n",
       "    }\n",
       "\n",
       "    .dataframe thead th {\n",
       "        text-align: right;\n",
       "    }\n",
       "</style>\n",
       "<table border=\"1\" class=\"dataframe\">\n",
       "  <thead>\n",
       "    <tr style=\"text-align: right;\">\n",
       "      <th></th>\n",
       "      <th>id</th>\n",
       "      <th>skills</th>\n",
       "    </tr>\n",
       "  </thead>\n",
       "  <tbody>\n",
       "    <tr>\n",
       "      <th>0</th>\n",
       "      <td>64361</td>\n",
       "      <td>Bash/Shell</td>\n",
       "    </tr>\n",
       "    <tr>\n",
       "      <th>0</th>\n",
       "      <td>64361</td>\n",
       "      <td>Groovy</td>\n",
       "    </tr>\n",
       "    <tr>\n",
       "      <th>0</th>\n",
       "      <td>64361</td>\n",
       "      <td>HTML/CSS</td>\n",
       "    </tr>\n",
       "    <tr>\n",
       "      <th>0</th>\n",
       "      <td>64361</td>\n",
       "      <td>Java</td>\n",
       "    </tr>\n",
       "    <tr>\n",
       "      <th>0</th>\n",
       "      <td>64361</td>\n",
       "      <td>Python</td>\n",
       "    </tr>\n",
       "    <tr>\n",
       "      <th>...</th>\n",
       "      <td>...</td>\n",
       "      <td>...</td>\n",
       "    </tr>\n",
       "    <tr>\n",
       "      <th>4</th>\n",
       "      <td>48078</td>\n",
       "      <td>Node.js</td>\n",
       "    </tr>\n",
       "    <tr>\n",
       "      <th>4</th>\n",
       "      <td>48078</td>\n",
       "      <td>Vue.js</td>\n",
       "    </tr>\n",
       "    <tr>\n",
       "      <th>4</th>\n",
       "      <td>48078</td>\n",
       "      <td>Electron</td>\n",
       "    </tr>\n",
       "    <tr>\n",
       "      <th>4</th>\n",
       "      <td>48078</td>\n",
       "      <td>Spring</td>\n",
       "    </tr>\n",
       "    <tr>\n",
       "      <th>4</th>\n",
       "      <td>48078</td>\n",
       "      <td>npm</td>\n",
       "    </tr>\n",
       "  </tbody>\n",
       "</table>\n",
       "<p>85 rows × 2 columns</p>\n",
       "</div>"
      ],
      "text/plain": [
       "       id      skills\n",
       "0   64361  Bash/Shell\n",
       "0   64361      Groovy\n",
       "0   64361    HTML/CSS\n",
       "0   64361        Java\n",
       "0   64361      Python\n",
       "..    ...         ...\n",
       "4   48078     Node.js\n",
       "4   48078      Vue.js\n",
       "4   48078    Electron\n",
       "4   48078      Spring\n",
       "4   48078         npm\n",
       "\n",
       "[85 rows x 2 columns]"
      ]
     },
     "execution_count": 48,
     "metadata": {},
     "output_type": "execute_result"
    }
   ],
   "source": [
    "df_person_interests = df_people.explode('skills-want')[['id', 'skills-want']]\n",
    "df_person_interests['skills'] = df_person_interests['skills-want']\n",
    "#df_person_interests['source'] = 'person-interests'\n",
    "#df_person_interests = df_person_interests[['id', 'skills', 'source']]\n",
    "df_person_interests = df_person_interests[['id', 'skills']]\n",
    "df_person_interests['skills'] = df_person_interests['skills'].str.strip()\n",
    "df_person_interests\n"
   ]
  },
  {
   "attachments": {},
   "cell_type": "markdown",
   "metadata": {},
   "source": [
    "# Compute Number for each combination"
   ]
  },
  {
   "cell_type": "code",
   "execution_count": 49,
   "metadata": {},
   "outputs": [],
   "source": [
    "from sqlalchemy import create_engine\n",
    "\n",
    "def create_table(name, df):\n",
    "    # Create a connection to the database\n",
    "    engine = create_engine('sqlite:///database.db')\n",
    "\n",
    "    # Load the DataFrame into a table\n",
    "    df.to_sql(f'{name}', engine, if_exists='replace', index=False)\n",
    "\n",
    "    # Close the database connection\n",
    "    engine.dispose()\n",
    "\n",
    "create_table('person_skills', df_person_skills)\n",
    "create_table('person_interests', df_person_interests)\n",
    "create_table('role_skills', df_role_skills)\n"
   ]
  },
  {
   "cell_type": "code",
   "execution_count": 50,
   "metadata": {},
   "outputs": [],
   "source": [
    "def query_database(sql):\n",
    "    # Create a connection to the database\n",
    "    engine = create_engine('sqlite:///database.db')\n",
    "\n",
    "    # Query the data\n",
    "    query = sql\n",
    "    result = engine.execute(query)\n",
    "\n",
    "    # Fetch all the rows from the result object\n",
    "    rows = result.fetchall()\n",
    "\n",
    "    # Convert the rows to a DataFrame\n",
    "    df_result = pd.DataFrame(rows, columns=result.keys())\n",
    "\n",
    "    # Close the database connection\n",
    "    engine.dispose()\n",
    "\n",
    "    return df_result\n"
   ]
  },
  {
   "cell_type": "code",
   "execution_count": 51,
   "metadata": {},
   "outputs": [
    {
     "data": {
      "text/plain": [
       "12"
      ]
     },
     "execution_count": 51,
     "metadata": {},
     "output_type": "execute_result"
    }
   ],
   "source": [
    "# Get total number of skills in the role\n",
    "result = query_database(\"\"\"\n",
    "    select skills from role_skills\n",
    "\"\"\")\n",
    "result\n",
    "all_skills = result.count()[0]\n",
    "all_skills"
   ]
  },
  {
   "cell_type": "code",
   "execution_count": 52,
   "metadata": {},
   "outputs": [],
   "source": [
    "def compute_matched_skills_only(person):\n",
    "    # Get skills only\n",
    "    result = query_database(f\"\"\"\n",
    "        select rs.skills from role_skills rs, person_skills ps \n",
    "        where rs.skills = ps.skills and ps.id = {person} and rs.skills not in (\n",
    "            select skills from person_interests where id = {person});\n",
    "        \"\"\")\n",
    "    result\n",
    "    matched_skills_only = result.count()[0]\n",
    "    return matched_skills_only\n",
    "\n",
    "\n",
    "\n",
    "def compute_matched_skills_and_interests(person):\n",
    "    \n",
    "    # Get skills and interests\n",
    "    result = query_database(f\"\"\"\n",
    "        select rs.skills from role_skills rs, person_skills ps where rs.skills = ps.skills and ps.id = {person} and rs.skills in (select skills from person_interests where id = {person});\n",
    "        \"\"\")\n",
    "    result\n",
    "    matched_skills_and_interests = result.count()[0]\n",
    "    return matched_skills_and_interests\n",
    "\n",
    "\n",
    "def compute_matched_interests_only(person):\n",
    "    # Get interests only\n",
    "    result = query_database(f\"\"\"\n",
    "        select rs.skills from role_skills rs, person_interests pi where rs.skills = pi.skills and pi.id = {person} and rs.skills not in (select skills from person_skills where id = {person});\n",
    "        \"\"\")\n",
    "    result\n",
    "    matched_interests_only = result.count()[0]\n",
    "    return matched_interests_only\n",
    "\n",
    "\n",
    "\n",
    "def compute_skills_not_matched(person):\n",
    "    # Get skills not matched on neither skills nor interests\n",
    "    result = query_database(f\"\"\"\n",
    "        select rs.skills from role_skills rs where rs.skills not in (select skills from person_skills where id = {person}) and rs.skills not in (select skills from person_interests where id = {person}) ;\n",
    "        \"\"\")\n",
    "    result\n",
    "    skills_not_matched = result.count()[0]\n",
    "    return skills_not_matched\n",
    "\n",
    "\n"
   ]
  },
  {
   "cell_type": "code",
   "execution_count": 53,
   "metadata": {},
   "outputs": [],
   "source": [
    "\n",
    "#print(compute_matched_skills_only(person_id_1))\n",
    "#print(compute_matched_skills_and_interests(person_id_1))\n",
    "#print(compute_matched_interests_only(person_id_1))\n",
    "#print(compute_skills_not_matched(person_id_1))"
   ]
  },
  {
   "attachments": {},
   "cell_type": "markdown",
   "metadata": {},
   "source": [
    "# See Results"
   ]
  },
  {
   "cell_type": "code",
   "execution_count": 54,
   "metadata": {},
   "outputs": [],
   "source": [
    "#print(\"Total Number of Skills:\", all_skills)\n",
    "#print(\"Skills only:\", matched_skills_only)\n",
    "#print(\"Skills and Interests:\", matched_skills_and_interests)\n",
    "#print(\"Interests only:\", matched_interests_only)\n",
    "#print(\"Skills not Matched:\", skills_not_matched)\n"
   ]
  },
  {
   "cell_type": "code",
   "execution_count": 55,
   "metadata": {},
   "outputs": [
    {
     "data": {
      "image/png": "[encoded data removed]",
      "text/plain": [
       "<Figure size 432x288 with 1 Axes>"
      ]
     },
     "metadata": {
      "needs_background": "light"
     },
     "output_type": "display_data"
    }
   ],
   "source": [
    "import matplotlib.pyplot as plt\n",
    "\n",
    "# Create a sample DataFrame\n",
    "data = {\n",
    "    'Category': [f'Person {person_id_1}', f'Person {person_id_2}', f'Person {person_id_3}', f'Person {person_id_4}', f'Person {person_id_5}'],\n",
    "    'Matched by Skills only': [compute_matched_skills_only(person_id_1), compute_matched_skills_only(person_id_2), compute_matched_skills_only(person_id_3), compute_matched_skills_only(person_id_4), compute_matched_skills_only(person_id_5)],\n",
    "    'Matched by Skills and Interests': [compute_matched_skills_and_interests(person_id_1), compute_matched_skills_and_interests(person_id_2), compute_matched_skills_and_interests(person_id_3), compute_matched_skills_and_interests(person_id_4), compute_matched_skills_and_interests(person_id_5)],\n",
    "    'Matched by Interests only': [compute_matched_interests_only(person_id_1), compute_matched_interests_only(person_id_2), compute_matched_interests_only(person_id_3), compute_matched_interests_only(person_id_4), compute_matched_interests_only(person_id_5)],\n",
    "    'Skills not Matched': [compute_skills_not_matched(person_id_1), compute_skills_not_matched(person_id_2), compute_skills_not_matched(person_id_3), compute_skills_not_matched(person_id_4), compute_skills_not_matched(person_id_5)]\n",
    "}\n",
    "df = pd.DataFrame(data)\n",
    "\n",
    "# Calculate the percentage for each value in each category\n",
    "total = df[['Matched by Skills only', 'Matched by Skills and Interests', 'Matched by Interests only', 'Skills not Matched']].sum(axis=1)\n",
    "df_percent = df[['Matched by Skills only', 'Matched by Skills and Interests', 'Matched by Interests only', 'Skills not Matched']].div(total, axis=0) * 100\n",
    "\n",
    "# Plot the 100% stacked bar chart\n",
    "fig, ax = plt.subplots()\n",
    "categories = df['Category']\n",
    "bar_width = 0.5\n",
    "\n",
    "bottom = [0] * len(categories)\n",
    "colors = ['tab:blue', 'tab:green', 'tab:purple', 'tab:red']\n",
    "\n",
    "for i, col in enumerate(df_percent.columns):\n",
    "    values = df_percent[col]\n",
    "    ax.bar(categories, values, bar_width, bottom=bottom, color=colors[i], label=col)\n",
    "    bottom += values\n",
    "\n",
    "ax.set_ylabel('% of Skill Coverage')\n",
    "ax.set_xlabel(f'Model Suggestions for Role {role_id}')\n",
    "ax.set_title(f'Role {role_id}')\n",
    "ax.legend(loc='center left', bbox_to_anchor=(1, 0.5))\n",
    "\n",
    "plt.show()\n"
   ]
  },
  {
   "cell_type": "code",
   "execution_count": 437,
   "metadata": {},
   "outputs": [
    {
     "data": {
      "text/plain": [
       "<Figure size 432x288 with 0 Axes>"
      ]
     },
     "metadata": {},
     "output_type": "display_data"
    }
   ],
   "source": [
    "# Save chart\n",
    "plt.savefig(f'rating_role_{role_id}.png', bbox_inches='tight')"
   ]
  }
 ],
 "metadata": {
  "kernelspec": {
   "display_name": "Python 3.8.8 ('base')",
   "language": "python",
   "name": "python3"
  },
  "language_info": {
   "codemirror_mode": {
    "name": "ipython",
    "version": 3
   },
   "file_extension": ".py",
   "mimetype": "text/x-python",
   "name": "python",
   "nbconvert_exporter": "python",
   "pygments_lexer": "ipython3",
   "version": "3.8.8"
  },
  "orig_nbformat": 4,
  "vscode": {
   "interpreter": {
    "hash": "ff5c35ef38b2b7e6ead3b71d60022e5b4c6fa7102a3de358d839e718f29a2955"
   }
  }
 },
 "nbformat": 4,
 "nbformat_minor": 2
}
